{
 "metadata": {
  "name": "",
  "signature": "sha256:f3d949ed23f8bd3ec1dd5739723240213acf3fd6f174d0aded792b55b6c4d3ff"
 },
 "nbformat": 3,
 "nbformat_minor": 0,
 "worksheets": [
  {
   "cells": [
    {
     "cell_type": "code",
     "collapsed": false,
     "input": [
      "from pubmed import *\n",
      "\n",
      "PubMed = PubMedTokenizer(0, 'pubmed_result.txt','pubmed_result.xml', 1,1,1)\n",
      "\n",
      "man_list = PubMed.line_to_structed_data()[6]\n",
      "\n",
      "print(man_list[0])\n",
      "\n",
      "man_index_list=[]\n",
      "for i, key in enumerate(man_list):\n",
      "    if key:\n",
      "        man_index_list.append(i)\n",
      "print(len(man_index_list))"
     ],
     "language": "python",
     "metadata": {},
     "outputs": [
      {
       "output_type": "stream",
       "stream": "stdout",
       "text": [
        "PubMed used\n",
        "PubMed starting index = 0\n",
        "['cd-mofs', 'curcumin', 'encapsulation', 'spectroscopy', 'stability', '\u03b3-cyclodextrin']"
       ]
      },
      {
       "output_type": "stream",
       "stream": "stdout",
       "text": [
        "\n",
        "895\n"
       ]
      }
     ],
     "prompt_number": 1
    },
    {
     "cell_type": "code",
     "collapsed": false,
     "input": [
      "from Textmining import *\n",
      "import os\n",
      "\n",
      "CORPUS_OPTION = (0,0,0,1,0,0,0,1)\n",
      "BASIC_PATH = ('','','','','','','')\n",
      "main_path = os.getcwd()\n",
      "\n",
      "Corpus = Make_custom_corpus(['a','b','c'],CORPUS_OPTION,BASIC_PATH,0)\n",
      "total_corpus = Corpus.build_corpus(main_path+'/data'+'/160911_test/tokens/',5000)\n",
      "\n",
      "print(len(total_corpus))"
     ],
     "language": "python",
     "metadata": {},
     "outputs": [
      {
       "output_type": "stream",
       "stream": "stdout",
       "text": [
        "2977\n"
       ]
      }
     ],
     "prompt_number": 2
    },
    {
     "cell_type": "code",
     "collapsed": false,
     "input": [
      "stop_words = get_stopword_set()\n",
      "\n",
      "sents= []\n",
      "for i in man_index_list:\n",
      "    sent = ''\n",
      "    for word in man_list[i]:\n",
      "        sent = sent+word+' '\n",
      "    sents.append(sent)\n",
      "    \n",
      "    \n",
      "total_sents=[]\n",
      "for j in sents:\n",
      "    tokens = get_tokens(j)\n",
      "    pos_token = nltk.pos_tag(tokens)\n",
      "    filtered_tokens = [word for word in pos_token if not word[0] in stop_words]\n",
      "    lemma_first = lemmatize_tokens_for_pos(filtered_tokens, lemmatizer)\n",
      "    lemmatized_tokens = [word for word in lemma_first if not word in stop_words]\n",
      "    remove_num = [word for word in lemmatized_tokens if word>'a'  and word.isalnum() and not word[0].isdigit()]\n",
      "    final_word = []\n",
      "    for word in remove_num:\n",
      "        if len(word) == 2:\n",
      "            if not is_useful_2gram(word):\n",
      "                continue\n",
      "            else:\n",
      "                final_word.append(word)\n",
      "        else:\n",
      "            final_word.append(word)\n",
      "            \n",
      "    total_sents.append(final_word)\n",
      "\n",
      "print(len(total_sents))\n",
      "man_keyword_list = total_sents"
     ],
     "language": "python",
     "metadata": {},
     "outputs": [
      {
       "output_type": "stream",
       "stream": "stdout",
       "text": [
        "895\n"
       ]
      }
     ],
     "prompt_number": 3
    },
    {
     "cell_type": "code",
     "collapsed": false,
     "input": [
      "for i, key in enumerate(man_keyword_list):\n",
      "    for j, word in enumerate(key):\n",
      "        if word == 'framework':\n",
      "            key.remove(word)\n",
      "        if word == 'metalorganic':\n",
      "            key[j] = 'mofs'\n",
      "        if word == 'metal':\n",
      "            if j != len(key)-1 and key[j+1]=='organic':\n",
      "                key[j] = 'mofs'\n",
      "                key.remove(key[j+1])\n",
      "        if word == 'mof':\n",
      "            key[j] = 'mofs'                  "
     ],
     "language": "python",
     "metadata": {},
     "outputs": [],
     "prompt_number": 4
    },
    {
     "cell_type": "code",
     "collapsed": false,
     "input": [
      "print(man_keyword_list[15])"
     ],
     "language": "python",
     "metadata": {},
     "outputs": [
      {
       "output_type": "stream",
       "stream": "stdout",
       "text": [
        "['enzyme', 'separation', 'ion', 'exchange', 'mofs', 'uranium', 'waterstable', 'mofs']\n"
       ]
      }
     ],
     "prompt_number": 5
    },
    {
     "cell_type": "code",
     "collapsed": false,
     "input": [
      "print(man_list[16])"
     ],
     "language": "python",
     "metadata": {},
     "outputs": [
      {
       "output_type": "stream",
       "stream": "stdout",
       "text": [
        "['enzyme separation', 'ion exchange', 'metal-organic frameworks', 'uranium', 'water-stable mofs']\n"
       ]
      }
     ],
     "prompt_number": 6
    },
    {
     "cell_type": "code",
     "collapsed": false,
     "input": [
      "for i, key in enumerate(man_keyword_list):\n",
      "    if 'tcnq' in key:\n",
      "        print(i, key)"
     ],
     "language": "python",
     "metadata": {},
     "outputs": [
      {
       "output_type": "stream",
       "stream": "stdout",
       "text": [
        "72 ['tcnq', 'electric', 'transport', 'property', 'guest', 'load', 'mercurybased', 'tunnel', 'junction', 'mofs', 'film']\n",
        "503 ['cu', 'paddlewheel', 'tcnq', 'density', 'functional', 'theory', 'electrical', 'conductivity', 'mofs', 'screen']\n",
        "712 ['tcnq', 'dianion', 'magnetic', 'property', 'mofs', 'transition', 'metal']\n"
       ]
      }
     ],
     "prompt_number": 10
    },
    {
     "cell_type": "code",
     "collapsed": false,
     "input": [
      "for i, key in enumerate(man_keyword_list):\n",
      "    if 'conductivity' in key:\n",
      "        print(i, key)"
     ],
     "language": "python",
     "metadata": {},
     "outputs": [
      {
       "output_type": "stream",
       "stream": "stdout",
       "text": [
        "220 ['charge', 'transport', 'conductivity', 'device', 'mofs', 'porous', 'material']\n",
        "252 ['cluster', 'organic', 'copper', 'lanthanides', 'proton', 'conductivity', 'supertetrahedral', 'cluster']\n",
        "274 ['defect', 'impedance', 'spectroscopy', 'ion', 'conductivity', 'mofs', 'nickel']\n",
        "462 ['chromiumiii', 'cooperative', 'crystallization', 'indium', 'mofs', 'polyhedron', 'proton', 'conductivity']\n",
        "503 ['cu', 'paddlewheel', 'tcnq', 'density', 'functional', 'theory', 'electrical', 'conductivity', 'mofs', 'screen']\n",
        "528 ['ammonia', 'conductivity', 'copper', 'mofs', 'sensor']\n"
       ]
      }
     ],
     "prompt_number": 8
    },
    {
     "cell_type": "code",
     "collapsed": false,
     "input": [
      "for i, key in enumerate(man_keyword_list):\n",
      "    if 'screen' in key or 'screening' in key:\n",
      "        print(i, key)"
     ],
     "language": "python",
     "metadata": {},
     "outputs": [
      {
       "output_type": "stream",
       "stream": "stdout",
       "text": [
        "162 ['gas', 'capture', 'storage', 'hostguest', 'property', 'machine', 'learn', 'nanoporous', 'solid', 'virtual', 'screening']\n",
        "503 ['cu', 'paddlewheel', 'tcnq', 'density', 'functional', 'theory', 'electrical', 'conductivity', 'mofs', 'screen']\n",
        "669 ['mofs', 'qspr', 'model', 'computer', 'aid', 'design', 'gas', 'adsorption', 'nanoporous', 'material', 'virtual', 'screening']\n",
        "880 ['charge', 'equilibration', 'electrostatics', 'mofs', 'molecular', 'simulation', 'partial', 'charge', 'rapid', 'screen']\n"
       ]
      }
     ],
     "prompt_number": 9
    },
    {
     "cell_type": "code",
     "collapsed": false,
     "input": [
      "def citation_find(target_paper_index, key_list):\n",
      "    for i, paper in enumerate(man_keyword_list[target_paper_index+1:]):\n",
      "        test = []\n",
      "        for word in key_list:\n",
      "            test.append(word in paper)\n",
      "        \n",
      "        if all(test):\n",
      "            print(target_paper_index+1+i, paper)\n",
      "            \n",
      "            \n",
      "def citation_index_find(target_paper_index, key_list):\n",
      "    index_list=[]\n",
      "    for i, paper in enumerate(man_keyword_list[target_paper_index+1:]):\n",
      "        test = []\n",
      "        for word in key_list:\n",
      "            test.append(word in paper)\n",
      "            \n",
      "        if all(test):\n",
      "            index_list.append(target_paper_index+1+i)\n",
      "    return index_list"
     ],
     "language": "python",
     "metadata": {},
     "outputs": [],
     "prompt_number": 46
    },
    {
     "cell_type": "code",
     "collapsed": false,
     "input": [
      "citation_find(503,['tcnq'])"
     ],
     "language": "python",
     "metadata": {},
     "outputs": [
      {
       "output_type": "stream",
       "stream": "stdout",
       "text": [
        "712 ['tcnq', 'dianion', 'magnetic', 'property', 'mofs', 'transition', 'metal']\n"
       ]
      }
     ],
     "prompt_number": 39
    },
    {
     "cell_type": "code",
     "collapsed": false,
     "input": [
      "citation_find(503,['screen'])"
     ],
     "language": "python",
     "metadata": {},
     "outputs": [
      {
       "output_type": "stream",
       "stream": "stdout",
       "text": [
        "880 ['charge', 'equilibration', 'electrostatics', 'mofs', 'molecular', 'simulation', 'partial', 'charge', 'rapid', 'screen']\n"
       ]
      }
     ],
     "prompt_number": 40
    },
    {
     "cell_type": "code",
     "collapsed": false,
     "input": [
      "citation_find(503,['screening'])"
     ],
     "language": "python",
     "metadata": {},
     "outputs": [
      {
       "output_type": "stream",
       "stream": "stdout",
       "text": [
        "669 ['mofs', 'qspr', 'model', 'computer', 'aid', 'design', 'gas', 'adsorption', 'nanoporous', 'material', 'virtual', 'screening']\n"
       ]
      }
     ],
     "prompt_number": 41
    },
    {
     "cell_type": "code",
     "collapsed": false,
     "input": [
      "citation_find(503,['conductivity'])"
     ],
     "language": "python",
     "metadata": {},
     "outputs": [
      {
       "output_type": "stream",
       "stream": "stdout",
       "text": [
        "528 ['ammonia', 'conductivity', 'copper', 'mofs', 'sensor']\n"
       ]
      }
     ],
     "prompt_number": 42
    },
    {
     "cell_type": "code",
     "collapsed": false,
     "input": [
      "citation_find(503,['conduct'])"
     ],
     "language": "python",
     "metadata": {},
     "outputs": [
      {
       "output_type": "stream",
       "stream": "stdout",
       "text": [
        "686 ['mofs', 'proton', 'conduct', 'material', 'protonated', 'water', 'cluster']\n",
        "710 ['adsorption', 'conduct', 'polymer', 'electrochemical', 'synthesis', 'mofs', 'polyaniline']\n",
        "762 ['conduct', 'material', 'fuel', 'cell', 'mofs', 'porous', 'material', 'proton', 'conduction']\n"
       ]
      }
     ],
     "prompt_number": 43
    },
    {
     "cell_type": "code",
     "collapsed": false,
     "input": [
      "citation_find(503,['electric'])"
     ],
     "language": "python",
     "metadata": {},
     "outputs": [
      {
       "output_type": "stream",
       "stream": "stdout",
       "text": [
        "709 ['electric', 'double', 'layer', 'capacitor', 'graphitic', 'structure', 'mesoporous', 'material', 'mofs', 'nanoporous', 'carbon', 'porous', 'material']\n"
       ]
      }
     ],
     "prompt_number": 44
    },
    {
     "cell_type": "code",
     "collapsed": false,
     "input": [
      "citation_find(503,['electrical'])"
     ],
     "language": "python",
     "metadata": {},
     "outputs": [],
     "prompt_number": 45
    },
    {
     "cell_type": "code",
     "collapsed": false,
     "input": [
      "def find_cite_candidate(file_index, keywords):\n",
      "    key_list = man_keyword_list[file_index]\n",
      "    test = []\n",
      "    for key_index, key in enumerate(keywords):\n",
      "        test.append(citation_index_find(file_index,[key]))\n",
      "        \n",
      "    if all(test):\n",
      "        return test"
     ],
     "language": "python",
     "metadata": {},
     "outputs": [],
     "prompt_number": 53
    },
    {
     "cell_type": "code",
     "collapsed": false,
     "input": [
      "find_cite_candidate(503,['tcnq','screen','mofs','conductivity'])"
     ],
     "language": "python",
     "metadata": {},
     "outputs": [
      {
       "metadata": {},
       "output_type": "pyout",
       "prompt_number": 55,
       "text": [
        "[[712],\n",
        " [880],\n",
        " [505,\n",
        "  507,\n",
        "  508,\n",
        "  509,\n",
        "  510,\n",
        "  512,\n",
        "  513,\n",
        "  514,\n",
        "  515,\n",
        "  516,\n",
        "  517,\n",
        "  518,\n",
        "  519,\n",
        "  520,\n",
        "  521,\n",
        "  522,\n",
        "  524,\n",
        "  525,\n",
        "  526,\n",
        "  527,\n",
        "  528,\n",
        "  529,\n",
        "  530,\n",
        "  531,\n",
        "  532,\n",
        "  533,\n",
        "  534,\n",
        "  535,\n",
        "  536,\n",
        "  537,\n",
        "  538,\n",
        "  539,\n",
        "  540,\n",
        "  541,\n",
        "  544,\n",
        "  545,\n",
        "  546,\n",
        "  550,\n",
        "  551,\n",
        "  552,\n",
        "  553,\n",
        "  554,\n",
        "  555,\n",
        "  556,\n",
        "  557,\n",
        "  558,\n",
        "  560,\n",
        "  561,\n",
        "  562,\n",
        "  563,\n",
        "  564,\n",
        "  565,\n",
        "  566,\n",
        "  567,\n",
        "  568,\n",
        "  569,\n",
        "  570,\n",
        "  571,\n",
        "  572,\n",
        "  574,\n",
        "  575,\n",
        "  578,\n",
        "  579,\n",
        "  580,\n",
        "  581,\n",
        "  582,\n",
        "  583,\n",
        "  584,\n",
        "  585,\n",
        "  586,\n",
        "  587,\n",
        "  588,\n",
        "  589,\n",
        "  590,\n",
        "  591,\n",
        "  592,\n",
        "  593,\n",
        "  594,\n",
        "  595,\n",
        "  596,\n",
        "  597,\n",
        "  598,\n",
        "  599,\n",
        "  600,\n",
        "  601,\n",
        "  602,\n",
        "  603,\n",
        "  604,\n",
        "  605,\n",
        "  606,\n",
        "  607,\n",
        "  608,\n",
        "  609,\n",
        "  611,\n",
        "  612,\n",
        "  613,\n",
        "  614,\n",
        "  616,\n",
        "  617,\n",
        "  618,\n",
        "  619,\n",
        "  620,\n",
        "  622,\n",
        "  623,\n",
        "  624,\n",
        "  625,\n",
        "  626,\n",
        "  627,\n",
        "  629,\n",
        "  630,\n",
        "  631,\n",
        "  632,\n",
        "  633,\n",
        "  634,\n",
        "  635,\n",
        "  636,\n",
        "  637,\n",
        "  638,\n",
        "  639,\n",
        "  640,\n",
        "  641,\n",
        "  642,\n",
        "  643,\n",
        "  644,\n",
        "  645,\n",
        "  646,\n",
        "  647,\n",
        "  648,\n",
        "  649,\n",
        "  650,\n",
        "  651,\n",
        "  652,\n",
        "  653,\n",
        "  654,\n",
        "  655,\n",
        "  656,\n",
        "  657,\n",
        "  658,\n",
        "  659,\n",
        "  660,\n",
        "  661,\n",
        "  662,\n",
        "  663,\n",
        "  664,\n",
        "  665,\n",
        "  666,\n",
        "  667,\n",
        "  668,\n",
        "  669,\n",
        "  670,\n",
        "  671,\n",
        "  672,\n",
        "  673,\n",
        "  674,\n",
        "  675,\n",
        "  676,\n",
        "  677,\n",
        "  679,\n",
        "  680,\n",
        "  681,\n",
        "  683,\n",
        "  685,\n",
        "  686,\n",
        "  687,\n",
        "  688,\n",
        "  689,\n",
        "  690,\n",
        "  691,\n",
        "  692,\n",
        "  693,\n",
        "  694,\n",
        "  695,\n",
        "  696,\n",
        "  697,\n",
        "  698,\n",
        "  699,\n",
        "  701,\n",
        "  702,\n",
        "  703,\n",
        "  704,\n",
        "  705,\n",
        "  706,\n",
        "  707,\n",
        "  708,\n",
        "  709,\n",
        "  710,\n",
        "  711,\n",
        "  712,\n",
        "  713,\n",
        "  714,\n",
        "  715,\n",
        "  716,\n",
        "  717,\n",
        "  718,\n",
        "  719,\n",
        "  720,\n",
        "  721,\n",
        "  722,\n",
        "  723,\n",
        "  725,\n",
        "  726,\n",
        "  727,\n",
        "  728,\n",
        "  729,\n",
        "  730,\n",
        "  731,\n",
        "  732,\n",
        "  733,\n",
        "  734,\n",
        "  735,\n",
        "  736,\n",
        "  737,\n",
        "  738,\n",
        "  739,\n",
        "  740,\n",
        "  741,\n",
        "  742,\n",
        "  743,\n",
        "  744,\n",
        "  745,\n",
        "  746,\n",
        "  747,\n",
        "  748,\n",
        "  750,\n",
        "  751,\n",
        "  752,\n",
        "  753,\n",
        "  754,\n",
        "  755,\n",
        "  756,\n",
        "  757,\n",
        "  758,\n",
        "  759,\n",
        "  760,\n",
        "  761,\n",
        "  762,\n",
        "  763,\n",
        "  764,\n",
        "  765,\n",
        "  766,\n",
        "  767,\n",
        "  768,\n",
        "  769,\n",
        "  770,\n",
        "  771,\n",
        "  772,\n",
        "  773,\n",
        "  774,\n",
        "  775,\n",
        "  776,\n",
        "  777,\n",
        "  778,\n",
        "  779,\n",
        "  780,\n",
        "  781,\n",
        "  782,\n",
        "  783,\n",
        "  784,\n",
        "  785,\n",
        "  786,\n",
        "  787,\n",
        "  788,\n",
        "  789,\n",
        "  790,\n",
        "  791,\n",
        "  792,\n",
        "  793,\n",
        "  794,\n",
        "  795,\n",
        "  796,\n",
        "  797,\n",
        "  798,\n",
        "  799,\n",
        "  800,\n",
        "  801,\n",
        "  803,\n",
        "  805,\n",
        "  806,\n",
        "  807,\n",
        "  808,\n",
        "  809,\n",
        "  810,\n",
        "  811,\n",
        "  812,\n",
        "  813,\n",
        "  814,\n",
        "  815,\n",
        "  816,\n",
        "  817,\n",
        "  818,\n",
        "  819,\n",
        "  820,\n",
        "  821,\n",
        "  822,\n",
        "  823,\n",
        "  824,\n",
        "  825,\n",
        "  826,\n",
        "  827,\n",
        "  828,\n",
        "  829,\n",
        "  831,\n",
        "  832,\n",
        "  833,\n",
        "  834,\n",
        "  835,\n",
        "  836,\n",
        "  838,\n",
        "  839,\n",
        "  840,\n",
        "  842,\n",
        "  843,\n",
        "  844,\n",
        "  845,\n",
        "  846,\n",
        "  847,\n",
        "  848,\n",
        "  849,\n",
        "  850,\n",
        "  851,\n",
        "  852,\n",
        "  853,\n",
        "  854,\n",
        "  855,\n",
        "  857,\n",
        "  858,\n",
        "  859,\n",
        "  860,\n",
        "  861,\n",
        "  862,\n",
        "  863,\n",
        "  864,\n",
        "  865,\n",
        "  866,\n",
        "  867,\n",
        "  868,\n",
        "  869,\n",
        "  870,\n",
        "  871,\n",
        "  872,\n",
        "  873,\n",
        "  874,\n",
        "  875,\n",
        "  876,\n",
        "  877,\n",
        "  878,\n",
        "  880,\n",
        "  881,\n",
        "  882,\n",
        "  884,\n",
        "  885,\n",
        "  887,\n",
        "  889,\n",
        "  890,\n",
        "  891,\n",
        "  893,\n",
        "  894],\n",
        " [528]]"
       ]
      }
     ],
     "prompt_number": 55
    },
    {
     "cell_type": "code",
     "collapsed": false,
     "input": [],
     "language": "python",
     "metadata": {},
     "outputs": []
    }
   ],
   "metadata": {}
  }
 ]
}