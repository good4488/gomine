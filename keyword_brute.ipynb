{
 "metadata": {
  "name": "",
  "signature": "sha256:a2c16d6296e872280b11ad8b0d97c3232aeac9d54bc0367d2d09e664e4986d8d"
 },
 "nbformat": 3,
 "nbformat_minor": 0,
 "worksheets": [
  {
   "cells": [
    {
     "cell_type": "code",
     "collapsed": false,
     "input": [
      "from pubmed import *\n",
      "\n",
      "PubMed = PubMedTokenizer(0, 'pubmed_result.txt','pubmed_result.xml', 1,1,1)\n",
      "\n",
      "man_list = PubMed.line_to_structed_data()[6]\n",
      "\n",
      "print(man_list[0])\n",
      "\n",
      "man_index_list=[]\n",
      "for i, key in enumerate(man_list):\n",
      "    if key:\n",
      "        man_index_list.append(i)\n",
      "print(len(man_index_list))"
     ],
     "language": "python",
     "metadata": {},
     "outputs": [
      {
       "output_type": "stream",
       "stream": "stdout",
       "text": [
        "PubMed used\n",
        "PubMed starting index = 0\n",
        "['cd-mofs', 'curcumin', 'encapsulation', 'spectroscopy', 'stability', '\u03b3-cyclodextrin']"
       ]
      },
      {
       "output_type": "stream",
       "stream": "stdout",
       "text": [
        "\n",
        "895\n"
       ]
      }
     ],
     "prompt_number": 1
    },
    {
     "cell_type": "code",
     "collapsed": false,
     "input": [
      "from Textmining import *\n",
      "import os\n",
      "\n",
      "CORPUS_OPTION = (0,0,0,1,0,0,0,1)\n",
      "BASIC_PATH = ('','','','','','','')\n",
      "main_path = os.getcwd()\n",
      "\n",
      "Corpus = Make_custom_corpus(['a','b','c'],CORPUS_OPTION,BASIC_PATH,0)\n",
      "total_corpus = Corpus.build_corpus(main_path+'/data'+'/160911_test/tokens/',5000)\n",
      "\n",
      "print(len(total_corpus))"
     ],
     "language": "python",
     "metadata": {},
     "outputs": [
      {
       "output_type": "stream",
       "stream": "stdout",
       "text": [
        "2977\n"
       ]
      }
     ],
     "prompt_number": 2
    },
    {
     "cell_type": "code",
     "collapsed": false,
     "input": [
      "stop_words = get_stopword_set()\n",
      "\n",
      "sents= []\n",
      "for i in man_index_list:\n",
      "    sent = ''\n",
      "    for word in man_list[i]:\n",
      "        sent = sent+word+' '\n",
      "    sents.append(sent)\n",
      "    \n",
      "    \n",
      "total_sents=[]\n",
      "for j in sents:\n",
      "    tokens = get_tokens(j)\n",
      "    pos_token = nltk.pos_tag(tokens)\n",
      "    filtered_tokens = [word for word in pos_token if not word[0] in stop_words]\n",
      "    lemma_first = lemmatize_tokens_for_pos(filtered_tokens, lemmatizer)\n",
      "    lemmatized_tokens = [word for word in lemma_first if not word in stop_words]\n",
      "    remove_num = [word for word in lemmatized_tokens if word>'a'  and word.isalnum() and not word[0].isdigit()]\n",
      "    final_word = []\n",
      "    for word in remove_num:\n",
      "        if len(word) == 2:\n",
      "            if not is_useful_2gram(word):\n",
      "                continue\n",
      "            else:\n",
      "                final_word.append(word)\n",
      "        else:\n",
      "            final_word.append(word)\n",
      "            \n",
      "    total_sents.append(final_word)\n",
      "\n",
      "print(len(total_sents))\n",
      "man_keyword_list = total_sents"
     ],
     "language": "python",
     "metadata": {},
     "outputs": [
      {
       "output_type": "stream",
       "stream": "stdout",
       "text": [
        "895\n"
       ]
      }
     ],
     "prompt_number": 3
    },
    {
     "cell_type": "code",
     "collapsed": false,
     "input": [
      "for i, key in enumerate(man_keyword_list):\n",
      "    for j, word in enumerate(key):\n",
      "        if word == 'framework':\n",
      "            key.remove(word)\n",
      "        if word == 'metalorganic':\n",
      "            key[j] = 'mofs'\n",
      "        if word == 'metal':\n",
      "            if j != len(key)-1 and key[j+1]=='organic':\n",
      "                key[j] = 'mofs'\n",
      "                key.remove(key[j+1])\n",
      "        if word == 'mof':\n",
      "            key[j] = 'mofs'                  "
     ],
     "language": "python",
     "metadata": {},
     "outputs": [],
     "prompt_number": 5
    },
    {
     "cell_type": "code",
     "collapsed": false,
     "input": [
      "print(man_keyword_list[15])"
     ],
     "language": "python",
     "metadata": {},
     "outputs": [
      {
       "output_type": "stream",
       "stream": "stdout",
       "text": [
        "['enzyme', 'separation', 'ion', 'exchange', 'mofs', 'uranium', 'waterstable', 'mofs']\n"
       ]
      }
     ],
     "prompt_number": 28
    },
    {
     "cell_type": "code",
     "collapsed": false,
     "input": [
      "print(man_list[16])"
     ],
     "language": "python",
     "metadata": {},
     "outputs": [
      {
       "output_type": "stream",
       "stream": "stdout",
       "text": [
        "['enzyme separation', 'ion exchange', 'metal-organic frameworks', 'uranium', 'water-stable mofs']\n"
       ]
      }
     ],
     "prompt_number": 30
    },
    {
     "cell_type": "code",
     "collapsed": false,
     "input": [
      "for i, key in enumerate(man_keyword_list):\n",
      "    if 'tcnq' in key:\n",
      "        print(i, key)"
     ],
     "language": "python",
     "metadata": {},
     "outputs": [
      {
       "output_type": "stream",
       "stream": "stdout",
       "text": [
        "72 ['tcnq', 'electric', 'transport', 'property', 'guest', 'load', 'mercurybased', 'tunnel', 'junction', 'mofs', 'film']\n",
        "503 ['cu', 'paddlewheel', 'tcnq', 'density', 'functional', 'theory', 'electrical', 'conductivity', 'mofs', 'screen']\n",
        "712 ['tcnq', 'dianion', 'magnetic', 'property', 'mofs', 'transition', 'metal']\n"
       ]
      }
     ],
     "prompt_number": 31
    },
    {
     "cell_type": "code",
     "collapsed": false,
     "input": [
      "for i, key in enumerate(man_keyword_list):\n",
      "    if 'conductivity' in key:\n",
      "        print(i, key)"
     ],
     "language": "python",
     "metadata": {},
     "outputs": [
      {
       "output_type": "stream",
       "stream": "stdout",
       "text": [
        "220 ['charge', 'transport', 'conductivity', 'device', 'mofs', 'porous', 'material']\n",
        "252 ['cluster', 'organic', 'copper', 'lanthanides', 'proton', 'conductivity', 'supertetrahedral', 'cluster']\n",
        "274 ['defect', 'impedance', 'spectroscopy', 'ion', 'conductivity', 'mofs', 'nickel']\n",
        "462 ['chromiumiii', 'cooperative', 'crystallization', 'indium', 'mofs', 'polyhedron', 'proton', 'conductivity']\n",
        "503 ['cu', 'paddlewheel', 'tcnq', 'density', 'functional', 'theory', 'electrical', 'conductivity', 'mofs', 'screen']\n",
        "528 ['ammonia', 'conductivity', 'copper', 'mofs', 'sensor']\n"
       ]
      }
     ],
     "prompt_number": 32
    },
    {
     "cell_type": "code",
     "collapsed": false,
     "input": [
      "for i, key in enumerate(man_keyword_list):\n",
      "    if 'screen' in key or 'screening' in key:\n",
      "        print(i, key)"
     ],
     "language": "python",
     "metadata": {},
     "outputs": [
      {
       "output_type": "stream",
       "stream": "stdout",
       "text": [
        "162 ['gas', 'capture', 'storage', 'hostguest', 'property', 'machine', 'learn', 'nanoporous', 'solid', 'virtual', 'screening']\n",
        "503 ['cu', 'paddlewheel', 'tcnq', 'density', 'functional', 'theory', 'electrical', 'conductivity', 'mofs', 'screen']\n",
        "669 ['mofs', 'qspr', 'model', 'computer', 'aid', 'design', 'gas', 'adsorption', 'nanoporous', 'material', 'virtual', 'screening']\n",
        "880 ['charge', 'equilibration', 'electrostatics', 'mofs', 'molecular', 'simulation', 'partial', 'charge', 'rapid', 'screen']\n"
       ]
      }
     ],
     "prompt_number": 39
    },
    {
     "cell_type": "code",
     "collapsed": false,
     "input": [],
     "language": "python",
     "metadata": {},
     "outputs": []
    }
   ],
   "metadata": {}
  }
 ]
}