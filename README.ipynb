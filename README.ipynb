{
 "metadata": {
  "name": "",
  "signature": "sha256:9c6a3a3190939708890902932ef85fd782da782a2c6608d1fe1a5a5eabf15e74"
 },
 "nbformat": 3,
 "nbformat_minor": 0,
 "worksheets": [
  {
   "cells": [
    {
     "cell_type": "markdown",
     "metadata": {},
     "source": [
      "##Using Literatrue Mining to Develop New Ideas for Metal-Organic Frameworks\n",
      "\n",
      "#### BAEKJUN KIM (MOLSIM GROUP)\n",
      "#### Korea Advanced Institute of Science and Technology, Yuseong-gu, Daejeon, South Korea\n",
      "#### E-mail        : good4488@kaist.ac.kr    /    baekjun48@gmail.com\n",
      "#### Notebook date : 2016-09-23"
     ]
    },
    {
     "cell_type": "markdown",
     "metadata": {},
     "source": [
      " **-------------------------------------------------------------------------------------**"
     ]
    },
    {
     "cell_type": "markdown",
     "metadata": {},
     "source": [
      "> # 1. About Metal-Organic Frameworks(MOFs)\n",
      "> ***"
     ]
    },
    {
     "cell_type": "markdown",
     "metadata": {},
     "source": [
      "> # 2. About Literature Based Discovery(LBD)\n",
      "> ***"
     ]
    },
    {
     "cell_type": "markdown",
     "metadata": {},
     "source": [
      "> # 3. Our Approach\n",
      "> ***"
     ]
    },
    {
     "cell_type": "markdown",
     "metadata": {},
     "source": [
      "> # 4. Program Outline\n",
      "> ***"
     ]
    },
    {
     "cell_type": "markdown",
     "metadata": {},
     "source": [
      "> # 5. Prerequisite Python3 Libraries\n",
      "> ***\n",
      "> **1. BeautifulSoup**\n",
      "* HTML/XML parsing library\n",
      "* install : <pre><code>pip3 install beautifulsoup4</code></pre>\n",
      "\n",
      "> **2. Natural Language Tool Kit (NLTK)**\n",
      "* Natural Language Processing for python\n",
      "* install : <pre><code>pip3 install nltk</code></pre>\n",
      "* After install : <pre><code>python3 nltk.download('all')</code></pre>\n",
      "\n",
      "> **3. Numpy, Scipy**\n",
      "* install : <pre><code>sudo apt-get install python3-numpy python3-scipy python3-matplotlib ipython3 ipython3-notebook python3-pandas</code></pre>\n",
      "\n",
      "> **4. Scikit-learn (sklearn)**\n",
      "* Machine Learning in python\n",
      "* install : <pre><code>pip3 install sklearn</code></pre>\n",
      "\n",
      "> **5. Gensim **\n",
      "* Text mining & machine learning\n",
      "* install : <pre><code>pip3 install --upgrade gensim</code></pre>\n",
      "\n",
      "> **6. Tensorflow**\n",
      "* Deep Learning and Neural Network\n",
      "* install : <https://tensorflow.org/versions/r0.10/get_started>"
     ]
    },
    {
     "cell_type": "markdown",
     "metadata": {},
     "source": [
      "> # 6. Examples\n",
      "> ***"
     ]
    }
   ],
   "metadata": {}
  }
 ]
}