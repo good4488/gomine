{
 "metadata": {
  "name": "",
  "signature": "sha256:4b67182ae11c6e5c8fe65f9e81d1d0fe1f1ac9e2ba69df8f67067ba84e23cbb8"
 },
 "nbformat": 3,
 "nbformat_minor": 0,
 "worksheets": [
  {
   "cells": [
    {
     "cell_type": "code",
     "collapsed": false,
     "input": [
      "from Textmining import *\n",
      "import os\n",
      "\n",
      "CORPUS_OPTION = (0,0,0,1,0,0,0,1)\n",
      "BASIC_PATH = ('','','','','','','')\n",
      "main_path = os.getcwd()\n",
      "\n",
      "Corpus = Make_custom_corpus(['a','b','c'],CORPUS_OPTION,BASIC_PATH,0)\n",
      "total_corpus = Corpus.build_corpus(main_path+'/data'+'/160911_test/tokens/',5000)\n",
      "\n",
      "print(len(total_corpus))"
     ],
     "language": "python",
     "metadata": {},
     "outputs": [
      {
       "output_type": "stream",
       "stream": "stdout",
       "text": [
        "2977\n"
       ]
      }
     ],
     "prompt_number": 2
    },
    {
     "cell_type": "code",
     "collapsed": false,
     "input": [
      "TFIDF_OPTION = (1,0,1.0,1,(1,1),1)\n",
      "TFIDF_model = TFIDF_Vectorizer_scikit(total_corpus, TFIDF_OPTION,BASIC_PATH)\n",
      "TFIDF_model.run()\n",
      "percent = TFIDF_model.get_keyword_convergence(10)\n",
      "print(percent[:20])"
     ],
     "language": "python",
     "metadata": {},
     "outputs": [
      {
       "output_type": "stream",
       "stream": "stdout",
       "text": [
        "TFIDF matrix shape is\n",
        "(2977, 15563)\n",
        "The number of TFIDF unique word set is\n",
        "15563\n",
        "[0.0, 0.0, 0.0, 0.3, 0.2, 0.0, 0.0, 0.1, 0.2, 0.2, 0.1, 0.1, 0.0, 0.3, 0.1, 0.0, 0.3, 0.2, 0.5, 0.3]"
       ]
      },
      {
       "output_type": "stream",
       "stream": "stdout",
       "text": [
        "\n"
       ]
      }
     ],
     "prompt_number": 3
    },
    {
     "cell_type": "code",
     "collapsed": false,
     "input": [
      "import matplotlib.pyplot as plt\n",
      "import numpy as np\n",
      "plt.figure(figsize=(10,10))\n",
      "x = range(len(total_corpus))\n",
      "y = np.array(percent) * 100\n",
      "plt.scatter(x,y)\n",
      "\n",
      "plt.suptitle('keyword convergence')\n",
      "plt.xlabel('Document')\n",
      "plt.ylabel('Percentage')\n",
      "\n",
      "axes = plt.gca()\n",
      "axes.set_xlim([0,3000])\n",
      "axes.set_ylim([0,100])\n",
      "plt.show()"
     ],
     "language": "python",
     "metadata": {},
     "outputs": [],
     "prompt_number": 4
    },
    {
     "cell_type": "code",
     "collapsed": false,
     "input": [],
     "language": "python",
     "metadata": {},
     "outputs": []
    }
   ],
   "metadata": {}
  }
 ]
}