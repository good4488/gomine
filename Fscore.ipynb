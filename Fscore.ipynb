{
 "metadata": {
  "name": "",
  "signature": "sha256:552f13ef258b81309d4db4d29d94254b8f4e57efedb3a0bd9c3772c393721a58"
 },
 "nbformat": 3,
 "nbformat_minor": 0,
 "worksheets": [
  {
   "cells": [
    {
     "cell_type": "code",
     "collapsed": false,
     "input": [
      "from mining_script import *"
     ],
     "language": "python",
     "metadata": {},
     "outputs": [
      {
       "output_type": "stream",
       "stream": "stdout",
       "text": [
        "/home/qorwns/textmining/data/160922_test/   path    exist!\n",
        "/home/qorwns/textmining/data/160922_test/raw_text/   path    exist!\n",
        "/home/qorwns/textmining/data/160922_test/full_text/   path    exist!\n",
        "/home/qorwns/textmining/data/160922_test/Output/   path    exist!\n",
        "/home/qorwns/textmining/data/160922_test/tokens/   path    exist!\n",
        "/home/qorwns/textmining/data/160922_test/TFIDF/   path    exist!\n",
        "/home/qorwns/textmining/data/160922_test/ONLYTF/   path    exist!\n",
        "/home/qorwns/textmining/data/160922_test/RAKE_keywords/   path    exist!\n",
        "Directory setting OK...\n",
        "\n",
        "In list_time, 2253 file inputs!\n",
        "PubMed used\n",
        "PubMed starting index = 0\n",
        "Making Corpus End......"
       ]
      },
      {
       "output_type": "stream",
       "stream": "stdout",
       "text": [
        "\n",
        "TFIDF matrix shape is"
       ]
      },
      {
       "output_type": "stream",
       "stream": "stdout",
       "text": [
        "\n",
        "(2977, 13855)\n",
        "The number of TFIDF unique word set is\n",
        "13855\n",
        "ONLYTF matrix shape is"
       ]
      },
      {
       "output_type": "stream",
       "stream": "stdout",
       "text": [
        "\n",
        "(2977, 13855)\n",
        "The number of ONLYTF unique word set is\n",
        "13855\n",
        "Run_time =  266.229133"
       ]
      },
      {
       "output_type": "stream",
       "stream": "stdout",
       "text": [
        "\n",
        "JOB DONE\n"
       ]
      }
     ],
     "prompt_number": 1
    },
    {
     "cell_type": "code",
     "collapsed": false,
     "input": [
      "man_keyword_list = keyword_pubmed\n",
      "\n",
      "man_index_list=[]\n",
      "for i, key in enumerate(man_keyword_list):\n",
      "    if key:\n",
      "        man_index_list.append(i)\n",
      "print(man_index_list[0:5])"
     ],
     "language": "python",
     "metadata": {},
     "outputs": [
      {
       "output_type": "stream",
       "stream": "stdout",
       "text": [
        "[283, 314, 324, 404, 438]\n"
       ]
      }
     ],
     "prompt_number": 2
    },
    {
     "cell_type": "code",
     "collapsed": false,
     "input": [
      "sents= []\n",
      "for i in man_index_list:\n",
      "    sent = ''\n",
      "    for word in man_keyword_list[i]:\n",
      "        sent = sent+word+' '\n",
      "    sents.append(sent)\n",
      "    \n",
      "    \n",
      "total_sents=[]\n",
      "for j in sents:\n",
      "    tokens = get_tokens(j)\n",
      "    pos_token = nltk.pos_tag(tokens)\n",
      "    filtered_tokens = [word for word in pos_token if not word[0] in stop_words]\n",
      "    lemma_first = lemmatize_tokens_for_pos(filtered_tokens, lemmatizer)\n",
      "    lemmatized_tokens = [word for word in lemma_first if not word in stop_words]\n",
      "    remove_num = [word for word in lemmatized_tokens if word>'a'  and word.isalnum() and not word[0].isdigit()]\n",
      "    #stemming = stem_tokens(remove_num, stemmer)\n",
      "    final_word = []\n",
      "    for word in remove_num:\n",
      "        if len(word) == 2:\n",
      "            #if not is_useful_2gram(word):\n",
      "                #continue\n",
      "            #else:\n",
      "            final_word.append(word)\n",
      "        else:\n",
      "            final_word.append(word)\n",
      "            \n",
      "    total_sents.append(final_word)\n",
      "\n",
      "print(len(total_sents))\n",
      "man_keyword = total_sents"
     ],
     "language": "python",
     "metadata": {},
     "outputs": [
      {
       "output_type": "stream",
       "stream": "stdout",
       "text": [
        "895\n"
       ]
      }
     ],
     "prompt_number": 3
    },
    {
     "cell_type": "code",
     "collapsed": false,
     "input": [
      "a =  [len(words) for words in man_keyword]\n",
      "print(np.mean(a))"
     ],
     "language": "python",
     "metadata": {},
     "outputs": [
      {
       "output_type": "stream",
       "stream": "stdout",
       "text": [
        "10.2782122905\n"
       ]
      }
     ],
     "prompt_number": 4
    },
    {
     "cell_type": "code",
     "collapsed": false,
     "input": [
      "import collections\n",
      "total_man_words = [i for word in man_keyword for i in word]\n",
      "count=[]\n",
      "count.extend(collections.Counter(total_man_words).most_common(len(total_man_words)))\n",
      "print('len keywords',len(count))\n",
      "\n",
      "unique_keyword = []\n",
      "for i, item in enumerate(count):\n",
      "    unique_keyword.append(item[0])\n",
      "\n",
      "dictionary = dict()\n",
      "for word, _ in count:\n",
      "    dictionary[word] = len(dictionary)\n",
      "reverse_dictionary = dict(zip(dictionary.values(), dictionary.keys()))\n",
      "    \n",
      "print(dictionary['metal'])\n",
      "print(reverse_dictionary[0])"
     ],
     "language": "python",
     "metadata": {},
     "outputs": [
      {
       "output_type": "stream",
       "stream": "stdout",
       "text": [
        "len keywords 1637\n",
        "0\n",
        "metal\n"
       ]
      }
     ],
     "prompt_number": 5
    },
    {
     "cell_type": "code",
     "collapsed": false,
     "input": [
      "new_key = []\n",
      "for i in man_index_list:\n",
      "    a = [TFIDF_total_word[index] for index in list(target_keyword_10[i])]\n",
      "    new_key.append(a)\n",
      "com_keyword_TFIDF = new_key\n",
      "\n",
      "new_key = []\n",
      "for i in man_index_list:\n",
      "    a = [TFIDF_total_word[index] for index in list(target_keyword_TF_10[i])]\n",
      "    new_key.append(a)\n",
      "com_keyword_ONLYTF = new_key\n",
      "\n",
      "print('man keyword',man_keyword[-1])\n",
      "print('TFIDF keyword',com_keyword_TFIDF[-1])\n",
      "print('ONLYTF keyword',com_keyword_ONLYTF[-1])"
     ],
     "language": "python",
     "metadata": {},
     "outputs": [
      {
       "output_type": "stream",
       "stream": "stdout",
       "text": [
        "man keyword ['cdmofs', 'curcumin', 'encapsulation', 'spectroscopy', 'stability', 'cyclodextrin']\n",
        "TFIDF keyword ['interaction', 'cdmof', 'complex', 'cdmofs', 'cd', 'emittance', 'ph', 'cyclodextrin', 'benign', 'curcumin']\n",
        "ONLYTF keyword ['interaction', 'complex', 'cdmofs', 'stability', 'metal', 'organic', 'cyclodextrin', 'ph', 'curcumin', 'group']\n"
       ]
      }
     ],
     "prompt_number": 6
    },
    {
     "cell_type": "code",
     "collapsed": false,
     "input": [
      "for i, key in enumerate(man_keyword):\n",
      "    for j, word in enumerate(key):\n",
      "        if word == 'framework':\n",
      "            key[j] = 'mofs'\n",
      "        if word == 'metalorganic':\n",
      "            key[j] = 'mofs'\n",
      "        if word == 'metal':\n",
      "            if j != len(key)-1 and key[j+1]=='organic':\n",
      "                key[j] = 'mofs'\n",
      "                key.remove(key[j+1])\n",
      "        if word == 'mof':\n",
      "            key[j] = 'mofs'\n",
      "    key.append('mofs')\n",
      "    man_keyword[i] = list(set(key))"
     ],
     "language": "python",
     "metadata": {},
     "outputs": [],
     "prompt_number": 7
    },
    {
     "cell_type": "code",
     "collapsed": false,
     "input": [
      "for i, key in enumerate(com_keyword_TFIDF):\n",
      "    for j, word in enumerate(key):\n",
      "        if word == 'framework':\n",
      "            key[j] = 'mofs'\n",
      "        if word == 'metalorganic':\n",
      "            key[j] = 'mofs'\n",
      "        if word == 'mof':\n",
      "            key[j] = 'mofs'\n",
      "    if 'metal' in key and 'organic' in key:\n",
      "        key.remove('metal')\n",
      "        key.remove('organic')\n",
      "        key.append('mofs')\n",
      "    key.append('mofs')\n",
      "    com_keyword_TFIDF[i] = list(set(key))"
     ],
     "language": "python",
     "metadata": {},
     "outputs": [],
     "prompt_number": 8
    },
    {
     "cell_type": "code",
     "collapsed": false,
     "input": [
      "for i, key in enumerate(com_keyword_ONLYTF):\n",
      "    for j, word in enumerate(key):\n",
      "        if word == 'framework':\n",
      "            key[j] = 'mofs'\n",
      "        if word == 'metalorganic':\n",
      "            key[j] = 'mofs'\n",
      "        if word == 'mof':\n",
      "            key[j] = 'mofs'  \n",
      "            \n",
      "    if 'metal' in key and 'organic' in key:\n",
      "        key.remove('metal')\n",
      "        key.remove('organic')\n",
      "        key.append('mofs')\n",
      "    key.append('mofs')\n",
      "    com_keyword_ONLYTF[i] = list(set(key))"
     ],
     "language": "python",
     "metadata": {},
     "outputs": [],
     "prompt_number": 9
    },
    {
     "cell_type": "code",
     "collapsed": false,
     "input": [
      "print('man keyword',set(man_keyword[-1]))\n",
      "print('TFIDF keyword',set(com_keyword_TFIDF[-1]))\n",
      "print('ONLYTF keyword',set(com_keyword_ONLYTF[-1]))"
     ],
     "language": "python",
     "metadata": {},
     "outputs": [
      {
       "output_type": "stream",
       "stream": "stdout",
       "text": [
        "man keyword {'stability', 'encapsulation', 'curcumin', 'cyclodextrin', 'spectroscopy', 'cdmofs'}\n",
        "TFIDF keyword {'interaction', 'cdmof', 'curcumin', 'ph', 'benign', 'complex', 'cyclodextrin', 'emittance', 'cdmofs', 'cd'}\n",
        "ONLYTF keyword {'interaction', 'stability', 'metal', 'group', 'organic', 'ph', 'curcumin', 'complex', 'cyclodextrin', 'cdmofs'}\n"
       ]
      }
     ],
     "prompt_number": 7
    },
    {
     "cell_type": "code",
     "collapsed": false,
     "input": [
      "def get_TP_TN(man,com):\n",
      "    TP, FP, FN = 0,0,0\n",
      "    for i in range(len(man)):\n",
      "        man_set = set(man[i])\n",
      "        com_set = set(com[i])\n",
      "        pTP = len(man_set&com_set)\n",
      "        pFP = len(com_set-man_set)\n",
      "        pFN = len(man_set-com_set)\n",
      "        TP += pTP\n",
      "        FP += pFP\n",
      "        FN += pFN\n",
      "    return TP,FP,FN\n",
      "\n",
      "TP_FP_FN_TFIDF = get_TP_TN(man_keyword, com_keyword_TFIDF)\n",
      "print('Man vs. TFIDF',TP_FP_FN_TFIDF)\n",
      "print('Sum',sum(TP_FP_FN_TFIDF))\n",
      "TP_FP_FN_ONLYTF = get_TP_TN(man_keyword, com_keyword_ONLYTF)\n",
      "print('Man vs. ONLYTF',TP_FP_FN_ONLYTF)\n",
      "print('Sum',sum(TP_FP_FN_ONLYTF))"
     ],
     "language": "python",
     "metadata": {},
     "outputs": [
      {
       "output_type": "stream",
       "stream": "stdout",
       "text": [
        "Man vs. TFIDF (2187, 6761, 6752)\n",
        "Sum 15700\n",
        "Man vs. ONLYTF (3241, 5707, 5698)\n",
        "Sum 14646\n"
       ]
      }
     ],
     "prompt_number": 8
    },
    {
     "cell_type": "code",
     "collapsed": false,
     "input": [
      "def get_precision(word_set):\n",
      "    precision = word_set[0]/(word_set[0]+word_set[1])\n",
      "    return precision\n",
      "\n",
      "def get_recall(word_set):\n",
      "    recall = word_set[0]/(word_set[0]+word_set[2])\n",
      "    return recall\n",
      "\n",
      "def get_f_score(word_set):\n",
      "    p = get_precision(word_set)\n",
      "    r = get_recall(word_set)\n",
      "    f_score = 2*p*r/(p+r)\n",
      "    return f_score\n",
      "\n",
      "print ('TFIDF Precision=',get_precision(TP_FP_FN_TFIDF))\n",
      "print ('TFIDF Recall=',get_recall(TP_FP_FN_TFIDF))\n",
      "print ('TFIDF F-score=',get_f_score(TP_FP_FN_TFIDF))\n",
      "print ('')\n",
      "\n",
      "print ('ONLYTF Precision=',get_precision(TP_FP_FN_ONLYTF))\n",
      "print ('ONLYTF Recall=',get_recall(TP_FP_FN_ONLYTF))\n",
      "print ('ONLYTF F-score=',get_f_score(TP_FP_FN_ONLYTF))"
     ],
     "language": "python",
     "metadata": {},
     "outputs": [
      {
       "output_type": "stream",
       "stream": "stdout",
       "text": [
        "TFIDF Precision= 0.24441215914170764\n",
        "TFIDF Recall= 0.24465823917664167\n",
        "TFIDF F-score= 0.24453513725051712\n",
        "\n",
        "ONLYTF Precision= 0.3622038444345105\n",
        "ONLYTF Recall= 0.36256851996867656\n",
        "ONLYTF F-score= 0.3623860904567563\n"
       ]
      }
     ],
     "prompt_number": 9
    },
    {
     "cell_type": "code",
     "collapsed": false,
     "input": [
      "for i, key in enumerate(man_keyword):\n",
      "    if 'tcnq' in key:\n",
      "        print(i, key)"
     ],
     "language": "python",
     "metadata": {},
     "outputs": [
      {
       "output_type": "stream",
       "stream": "stdout",
       "text": [
        "169 ['tcnq', 'dianion', 'magnetic', 'property', 'metal', 'organic', 'framework', 'transition', 'metal']\n",
        "397 ['cu', 'paddlewheel', 'tcnq', 'density', 'functional', 'theory', 'electrical', 'conductivity', 'metal', 'organic', 'framework', 'screen']\n",
        "797 ['tcnq', 'electric', 'transport', 'property', 'guest', 'load', 'mercury', 'base', 'tunnel', 'junction', 'metal', 'organic', 'framework', 'film']\n"
       ]
      }
     ],
     "prompt_number": 10
    },
    {
     "cell_type": "code",
     "collapsed": false,
     "input": [
      "def past_paper_find(target_paper_index, key_list):\n",
      "    for i, paper in enumerate(man_keyword[:target_paper_index]):\n",
      "        test = []\n",
      "        for word in key_list:\n",
      "            test.append(word in paper)\n",
      "        \n",
      "        if all(test):\n",
      "            print(i, paper)\n",
      "            \n",
      "            \n",
      "def past_index_find(target_paper_index, key_list):\n",
      "    index_list=[]\n",
      "    for i, paper in enumerate(man_keyword[:target_paper_index]):\n",
      "        test = []\n",
      "        for word in key_list:\n",
      "            test.append(word in paper)\n",
      "            \n",
      "        if all(test):\n",
      "            index_list.append(i)\n",
      "    return index_list"
     ],
     "language": "python",
     "metadata": {},
     "outputs": [],
     "prompt_number": 46
    },
    {
     "cell_type": "code",
     "collapsed": false,
     "input": [
      "past_paper_find(397, ['tcnq'])"
     ],
     "language": "python",
     "metadata": {},
     "outputs": [
      {
       "output_type": "stream",
       "stream": "stdout",
       "text": [
        "169 ['transition', 'metal', 'property', 'mofs', 'tcnq', 'dianion', 'magnetic']\n"
       ]
      }
     ],
     "prompt_number": 15
    },
    {
     "cell_type": "code",
     "collapsed": false,
     "input": [
      "past_paper_find(397, ['screening'])\n",
      "past_paper_find(397, ['screen'])"
     ],
     "language": "python",
     "metadata": {},
     "outputs": [
      {
       "output_type": "stream",
       "stream": "stdout",
       "text": [
        "226 ['qspr', 'design', 'material', 'mofs', 'nanoporous', 'computer', 'model', 'aid', 'gas', 'virtual', 'screening', 'adsorption']\n",
        "14 ['mofs', 'molecular', 'rapid', 'equilibration', 'partial', 'screen', 'charge', 'electrostatics', 'simulation']\n"
       ]
      }
     ],
     "prompt_number": 16
    },
    {
     "cell_type": "code",
     "collapsed": false,
     "input": [
      "past_paper_find(397, ['electrical'])\n",
      "past_paper_find(397, ['electric'])"
     ],
     "language": "python",
     "metadata": {},
     "outputs": [
      {
       "output_type": "stream",
       "stream": "stdout",
       "text": [
        "181 ['electric', 'layer', 'carbon', 'porous', 'mesoporous', 'graphitic', 'material', 'structure', 'mofs', 'nanoporous', 'capacitor', 'double']\n"
       ]
      }
     ],
     "prompt_number": 17
    },
    {
     "cell_type": "code",
     "collapsed": false,
     "input": [
      "past_paper_find(397, ['conductivity'])\n",
      "past_paper_find(397, ['conduct'])"
     ],
     "language": "python",
     "metadata": {},
     "outputs": [
      {
       "output_type": "stream",
       "stream": "stdout",
       "text": [
        "361 ['sensor', 'ammonia', 'copper', 'mofs', 'conductivity']\n",
        "134 ['porous', 'cell', 'conduction', 'material', 'proton', 'mofs', 'conduct', 'fuel']\n",
        "171 ['polymer', 'mofs', 'conduct', 'adsorption', 'synthesis', 'polyaniline', 'electrochemical']\n",
        "205 ['water', 'cluster', 'protonated', 'material', 'proton', 'mofs', 'conduct']\n",
        "369 ['postsynthetic', 'material', 'proton', 'mofs', 'conduct', 'thiol', 'oxidation', 'acid', 'sulfonic', 'group']\n"
       ]
      }
     ],
     "prompt_number": 18
    },
    {
     "cell_type": "code",
     "collapsed": false,
     "input": [
      "intersections=np.zeros((len(man_keyword),len(man_keyword)))\n",
      "for i in range(len(man_keyword)):\n",
      "    for j in range(len(man_keyword)):\n",
      "        intersections[i,j] = len(set(man_keyword[i])&set(man_keyword[j]))"
     ],
     "language": "python",
     "metadata": {},
     "outputs": [],
     "prompt_number": 47
    },
    {
     "cell_type": "code",
     "collapsed": false,
     "input": [
      "def find_combination_candidate(file_index, keywords):\n",
      "    key_list = man_keyword[file_index]\n",
      "    test = []\n",
      "    for key_index, key in enumerate(keywords):\n",
      "        index = past_index_find(file_index,[key])\n",
      "        if index:\n",
      "            cos = [ intersections[i,file_index] for i in index ]\n",
      "            cos, index = (list(t) for t in zip(*sorted(zip(cos, index), reverse=True)))\n",
      "            test.append(index[0])\n",
      "        else:\n",
      "            test.append([])\n",
      "        \n",
      "    if all(test):\n",
      "        for i in test:\n",
      "            print(i, man_keyword[i])\n",
      "        return test"
     ],
     "language": "python",
     "metadata": {},
     "outputs": [],
     "prompt_number": 48
    },
    {
     "cell_type": "code",
     "collapsed": false,
     "input": [
      "find_combination_candidate(397,['tcnq','screen','mofs','conductivity'])"
     ],
     "language": "python",
     "metadata": {},
     "outputs": [
      {
       "output_type": "stream",
       "stream": "stdout",
       "text": [
        "169 ['tcnq', 'dianion', 'magnetic', 'property', 'metal', 'organic', 'framework', 'transition', 'metal']\n",
        "14 ['charge', 'equilibration', 'electrostatics', 'metal', 'organic', 'framework', 'molecular', 'simulation', 'partial', 'charge', 'rapid', 'screen']\n",
        "359 ['gas', 'adsorption', 'interpenetrate', 'framework', 'isoreticular', 'mofs', 'metal', 'organic', 'framework', 'reversible', 'iodine', 'adsorption', 'selective', 'sorption']\n",
        "361 ['ammonia', 'conductivity', 'copper', 'metal', 'organic', 'framework', 'sensor']\n"
       ]
      },
      {
       "metadata": {},
       "output_type": "pyout",
       "prompt_number": 14,
       "text": [
        "[169, 14, 359, 361]"
       ]
      }
     ],
     "prompt_number": 14
    },
    {
     "cell_type": "code",
     "collapsed": false,
     "input": [
      "man_index_list[397], man_index_list[192]"
     ],
     "language": "python",
     "metadata": {},
     "outputs": [
      {
       "metadata": {},
       "output_type": "pyout",
       "prompt_number": 15,
       "text": [
        "(2028, 1536)"
       ]
      }
     ],
     "prompt_number": 15
    },
    {
     "cell_type": "code",
     "collapsed": false,
     "input": [
      "def find_cite_candidate(file_index, intersect_num):\n",
      "    key_list = list(set(man_keyword[file_index]))\n",
      "    test = []\n",
      "    if intersect_num==0:\n",
      "        intersect_num = len(key_list)\n",
      "    if intersect_num==-1:\n",
      "        intersect_num = len(key_list) - 1\n",
      "    if intersect_num==-2:\n",
      "        intersect_num = len(key_list) - 2\n",
      "    for key_index, key in enumerate(key_list):\n",
      "        index = past_index_find(file_index,[key])\n",
      "        if index:\n",
      "            cos = [ intersections[i,file_index] for i in index ]\n",
      "            cos, index = (list(t) for t in zip(*sorted(zip(cos, index), reverse=True)))\n",
      "            test.append(index[0])\n",
      "        \n",
      "    if len(test) >= intersect_num:\n",
      "        #for i in test:\n",
      "            #print(i, man_keyword[i])\n",
      "        return test\n",
      "    "
     ],
     "language": "python",
     "metadata": {},
     "outputs": [],
     "prompt_number": 53
    },
    {
     "cell_type": "code",
     "collapsed": false,
     "input": [
      "find_cite_candidate(397,8)"
     ],
     "language": "python",
     "metadata": {},
     "outputs": [
      {
       "metadata": {},
       "output_type": "pyout",
       "prompt_number": 54,
       "text": [
        "[273, 14, 273, 273, 169, 273, 361, 273, 70, 273]"
       ]
      }
     ],
     "prompt_number": 54
    },
    {
     "cell_type": "code",
     "collapsed": false,
     "input": [
      "candi = []\n",
      "for i in range(len(man_keyword)):\n",
      "    if find_cite_candidate(i,0):\n",
      "        print(i, find_cite_candidate(i,0))\n",
      "        candi.append(find_cite_candidate(i,0))\n",
      "    if i%100==0:\n",
      "        print('total candidates',len(candi))\n",
      "        \n",
      "print('total candidates',len(candi))"
     ],
     "language": "python",
     "metadata": {},
     "outputs": [
      {
       "output_type": "stream",
       "stream": "stdout",
       "text": [
        "total candidates 0\n",
        "62 [33, 23, 33, 57, 33, 33, 33]\n",
        "67 [65, 65, 58, 37, 65, 65, 58, 11, 65, 65]\n",
        "81"
       ]
      },
      {
       "output_type": "stream",
       "stream": "stdout",
       "text": [
        " [79, 79, 79, 80, 79, 73, 79, 64]\n",
        "98"
       ]
      },
      {
       "output_type": "stream",
       "stream": "stdout",
       "text": [
        " [50, 50, 50, 50, 87, 40, 50, 50]\n",
        "total candidates 4\n",
        "101 [67, 0, 67, 57, 67, 67, 67, 67, 57]\n",
        "103 [92, 92, 92, 92, 85, 98, 92, 64]\n",
        "113"
       ]
      },
      {
       "output_type": "stream",
       "stream": "stdout",
       "text": [
        " [94, 43, 94, 94, 94, 16]\n",
        "117 [107, 103, 107, 87, 107, 87, 107, 107, 103]\n",
        "138"
       ]
      },
      {
       "output_type": "stream",
       "stream": "stdout",
       "text": [
        " [125, 131, 0, 0, 0, 31, 0, 31, 0, 0]\n",
        "139 [5, 5, 5, 93, 5, 34, 5, 19, 110, 85, 5]\n",
        "147"
       ]
      },
      {
       "output_type": "stream",
       "stream": "stdout",
       "text": [
        " [98, 98, 98, 111, 20, 98, 137, 98, 91]\n",
        "156 [94, 151, 151, 127, 151, 151]\n",
        "161"
       ]
      },
      {
       "output_type": "stream",
       "stream": "stdout",
       "text": [
        " [48, 131, 131, 131, 131, 155, 160, 131, 48, 131, 36, 131, 131, 126, 116, 155, 131, 131, 131]\n",
        "162 [108, 108, 108, 139, 20, 20, 160, 108, 20, 9, 108, 108]\n",
        "163 [13, 96, 96, 96, 71, 96, 13, 71, 96, 96, 96]\n",
        "174"
       ]
      },
      {
       "output_type": "stream",
       "stream": "stdout",
       "text": [
        " [47, 47, 169, 47, 169, 47, 162, 78, 47, 47]\n",
        "176 [146, 146, 3, 30, 146, 146]\n",
        "178 [104, 104, 163, 104, 163, 104, 104, 104, 96, 104]\n",
        "180 [129, 129, 117, 129, 32, 129, 142, 129, 101]\n",
        "184"
       ]
      },
      {
       "output_type": "stream",
       "stream": "stdout",
       "text": [
        " [97, 97, 97, 110, 51, 97, 97, 97]\n",
        "186 [171, 171, 110, 43, 19, 171, 171, 171]\n",
        "198"
       ]
      },
      {
       "output_type": "stream",
       "stream": "stdout",
       "text": [
        " [56, 140, 186, 45, 188, 188, 90]\n",
        "199 [134, 134, 188, 13, 2, 134, 2, 134, 134, 134]\n",
        "total candidates 23\n",
        "203"
       ]
      },
      {
       "output_type": "stream",
       "stream": "stdout",
       "text": [
        " [177, 177, 177, 163, 177, 168, 82, 163, 10, 168, 177]\n",
        "211"
       ]
      },
      {
       "output_type": "stream",
       "stream": "stdout",
       "text": [
        " [76, 174, 174, 174, 76, 174, 186, 39, 174]\n",
        "218"
       ]
      },
      {
       "output_type": "stream",
       "stream": "stdout",
       "text": [
        " [13, 13, 13, 111, 13, 180, 212, 13]\n",
        "222 [188, 155, 188, 146, 188, 155, 188, 188, 188]\n",
        "225"
       ]
      },
      {
       "output_type": "stream",
       "stream": "stdout",
       "text": [
        " [203, 203, 203, 203, 203, 85, 203, 129, 162, 203]\n",
        "236"
       ]
      },
      {
       "output_type": "stream",
       "stream": "stdout",
       "text": [
        " [201, 201, 201, 125, 107, 201, 201, 180]\n",
        "240"
       ]
      },
      {
       "output_type": "stream",
       "stream": "stdout",
       "text": [
        " [104, 104, 184, 31, 42, 104, 104, 104, 104, 104, 104, 175, 104]\n",
        "242 [178, 178, 178, 104, 178, 178, 178, 104, 178, 178, 178, 179, 178]\n",
        "244"
       ]
      },
      {
       "output_type": "stream",
       "stream": "stdout",
       "text": [
        " [206, 206, 216, 206, 206, 183, 206, 155, 147, 206, 206, 206]\n",
        "245 [199, 16, 199, 199, 242, 242, 199, 108, 199, 90, 199]\n",
        "246 [196, 196, 159, 196, 214, 159, 196, 196]\n",
        "247"
       ]
      },
      {
       "output_type": "stream",
       "stream": "stdout",
       "text": [
        " [86, 86, 99, 99, 99, 99, 99, 99, 119, 99, 99]\n",
        "249 [86, 86, 86, 16, 86, 245, 16, 86, 245, 86, 86, 16]\n",
        "253 [206, 252, 252, 252, 181, 252, 181, 252]\n",
        "261"
       ]
      },
      {
       "output_type": "stream",
       "stream": "stdout",
       "text": [
        " [228, 30, 228, 5, 225, 30, 228, 228]\n",
        "266"
       ]
      },
      {
       "output_type": "stream",
       "stream": "stdout",
       "text": [
        " [206, 117, 206, 206, 117, 265, 206, 206, 157, 206]\n",
        "275"
       ]
      },
      {
       "output_type": "stream",
       "stream": "stdout",
       "text": [
        " [228, 228, 228, 128, 228, 228, 110]\n",
        "276 [259, 259, 271, 259, 259, 121, 121, 259]\n",
        "278 "
       ]
      },
      {
       "output_type": "stream",
       "stream": "stdout",
       "text": [
        "[247, 247, 247, 247, 247, 150, 245, 195, 150, 150, 247, 247]\n",
        "280 [268, 268, 268, 143, 268, 118, 143, 268, 268, 235]\n",
        "285"
       ]
      },
      {
       "output_type": "stream",
       "stream": "stdout",
       "text": [
        " [239, 277, 277, 228, 277, 274, 277, 228, 277]\n",
        "294"
       ]
      },
      {
       "output_type": "stream",
       "stream": "stdout",
       "text": [
        " [249, 249, 249, 249, 65, 249, 249]\n",
        "296 [246, 246, 246, 273, 287, 287, 246, 246, 246]\n",
        "297"
       ]
      },
      {
       "output_type": "stream",
       "stream": "stdout",
       "text": [
        " [293, 293, 293, 266, 266, 174, 293, 293, 191, 293, 293]\n",
        "total candidates 47\n",
        "311"
       ]
      },
      {
       "output_type": "stream",
       "stream": "stdout",
       "text": [
        " [249, 213, 249, 249, 213, 249, 213, 249, 249, 249, 213, 249]\n",
        "314 [117, 117, 117, 117, 216, 117, 213, 117, 117]\n",
        "317"
       ]
      },
      {
       "output_type": "stream",
       "stream": "stdout",
       "text": [
        " [315, 315, 315, 107, 315, 315, 181, 315]\n",
        "319 [58, 58, 58, 58, 58, 317, 317, 58, 58, 317]\n",
        "322"
       ]
      },
      {
       "output_type": "stream",
       "stream": "stdout",
       "text": [
        " [275, 275, 187, 34, 34, 275, 275, 275, 275]\n",
        "330"
       ]
      },
      {
       "output_type": "stream",
       "stream": "stdout",
       "text": [
        " [281, 218, 168, 281, 281, 1, 267, 308, 281, 281, 267]\n",
        "335"
       ]
      },
      {
       "output_type": "stream",
       "stream": "stdout",
       "text": [
        " [104, 104, 104, 104, 104, 104, 104, 104, 104, 104, 242, 104]\n",
        "344"
       ]
      },
      {
       "output_type": "stream",
       "stream": "stdout",
       "text": [
        " [324, 4, 4, 4, 316, 4, 262, 4, 4]\n",
        "348"
       ]
      },
      {
       "output_type": "stream",
       "stream": "stdout",
       "text": [
        " [191, 191, 158, 148, 191, 150, 191, 191, 191]\n",
        "350 [314, 314, 314, 311, 314, 168, 139, 314, 314, 314]\n",
        "351"
       ]
      },
      {
       "output_type": "stream",
       "stream": "stdout",
       "text": [
        " [101, 20, 9, 318, 101, 101, 3, 101]\n",
        "370"
       ]
      },
      {
       "output_type": "stream",
       "stream": "stdout",
       "text": [
        " [310, 310, 174, 174, 310, 310, 280, 310, 310, 316]\n",
        "377"
       ]
      },
      {
       "output_type": "stream",
       "stream": "stdout",
       "text": [
        " [273, 126, 273, 273, 273, 126, 273, 350, 126, 286, 273]\n",
        "381"
       ]
      },
      {
       "output_type": "stream",
       "stream": "stdout",
       "text": [
        " [119, 320, 367, 339, 367, 320, 119, 113]\n",
        "386"
       ]
      },
      {
       "output_type": "stream",
       "stream": "stdout",
       "text": [
        " [163, 163, 163, 315, 327, 163, 163, 102, 163]\n",
        "388 [330, 330, 330, 297, 297, 330, 330]\n",
        "394"
       ]
      },
      {
       "output_type": "stream",
       "stream": "stdout",
       "text": [
        " [384, 384, 366, 217, 315, 315, 384, 384, 384]\n",
        "399"
       ]
      },
      {
       "output_type": "stream",
       "stream": "stdout",
       "text": [
        " [297, 297, 170, 297, 319, 297, 297, 297]\n",
        "total candidates 65\n",
        "403"
       ]
      },
      {
       "output_type": "stream",
       "stream": "stdout",
       "text": [
        " [288, 288, 288, 288, 288, 288, 288, 288, 288, 311, 144, 288, 360, 288]\n",
        "405 [401, 401, 401, 281, 401, 218, 401]\n",
        "407"
       ]
      },
      {
       "output_type": "stream",
       "stream": "stdout",
       "text": [
        " [285, 159, 285, 58, 285, 285, 343, 285, 285]\n",
        "408 [159, 117, 159, 159, 159, 117, 117, 159, 159, 365]\n",
        "410"
       ]
      },
      {
       "output_type": "stream",
       "stream": "stdout",
       "text": [
        " [329, 329, 228, 188, 35, 329, 222, 329, 329, 377, 329]\n",
        "411 [405, 331, 405, 405, 183, 405, 405, 331]\n",
        "414"
       ]
      },
      {
       "output_type": "stream",
       "stream": "stdout",
       "text": [
        " [355, 355, 355, 355, 350, 355, 350, 350, 155, 355]\n",
        "422"
       ]
      },
      {
       "output_type": "stream",
       "stream": "stdout",
       "text": [
        " [147, 147, 147, 311, 147, 32, 147, 311, 147, 147, 311]\n",
        "424 [370, 299, 370, 370, 314, 314, 370, 370]\n",
        "433"
       ]
      },
      {
       "output_type": "stream",
       "stream": "stdout",
       "text": [
        " [408, 408, 408, 287, 407, 347, 408, 408]\n",
        "436"
       ]
      },
      {
       "output_type": "stream",
       "stream": "stdout",
       "text": [
        " [43, 43, 43, 322, 43, 43, 213, 43, 43]\n",
        "439 [436, 209, 436, 161, 436, 209, 436, 436]\n",
        "445"
       ]
      },
      {
       "output_type": "stream",
       "stream": "stdout",
       "text": [
        " [438, 438, 201, 438, 354, 438, 421]\n",
        "447 [437, 437, 437, 330, 315, 437, 356, 437, 433, 437, 437]\n",
        "449"
       ]
      },
      {
       "output_type": "stream",
       "stream": "stdout",
       "text": [
        " [80, 80, 80, 80, 80, 80, 367, 80, 80]\n",
        "452"
       ]
      },
      {
       "output_type": "stream",
       "stream": "stdout",
       "text": [
        " [243, 439, 243, 243, 419, 243, 422, 243]\n",
        "453 [296, 296, 296, 296, 374, 352, 423, 352, 296, 296]\n",
        "456"
       ]
      },
      {
       "output_type": "stream",
       "stream": "stdout",
       "text": [
        " [13, 13, 395, 338, 13, 13, 13, 13]\n",
        "458 [124, 124, 124, 124, 374, 124, 124]\n",
        "462"
       ]
      },
      {
       "output_type": "stream",
       "stream": "stdout",
       "text": [
        " [407, 407, 407, 407, 228, 407, 407, 313]\n",
        "468"
       ]
      },
      {
       "output_type": "stream",
       "stream": "stdout",
       "text": [
        " [411, 411, 411, 356, 133, 411, 411, 244, 411, 244]\n",
        "469 [294, 294, 85, 294, 365, 368, 294, 294, 294]\n",
        "471"
       ]
      },
      {
       "output_type": "stream",
       "stream": "stdout",
       "text": [
        " [462, 462, 462, 431, 277, 431, 313, 462, 462, 277]\n",
        "472 [39, 407, 211, 407, 407, 407, 278, 278, 278, 211, 407, 407]\n",
        "474"
       ]
      },
      {
       "output_type": "stream",
       "stream": "stdout",
       "text": [
        " [248, 248, 348, 369, 248, 248, 248, 248, 248]\n",
        "479"
       ]
      },
      {
       "output_type": "stream",
       "stream": "stdout",
       "text": [
        " [280, 280, 245, 280, 280, 280, 280, 280, 245, 280, 181]\n",
        "481"
       ]
      },
      {
       "output_type": "stream",
       "stream": "stdout",
       "text": [
        " [469, 469, 469, 435, 270, 363, 125, 469, 40]\n",
        "482 [352, 234, 234, 234, 234, 234, 320, 312, 234]\n",
        "484"
       ]
      },
      {
       "output_type": "stream",
       "stream": "stdout",
       "text": [
        " [437, 335, 48, 335, 207, 335, 335, 335, 335, 403, 335, 454, 335]\n",
        "489"
       ]
      },
      {
       "output_type": "stream",
       "stream": "stdout",
       "text": [
        " [119, 119, 119, 186, 458, 119, 119, 119]\n",
        "497"
       ]
      },
      {
       "output_type": "stream",
       "stream": "stdout",
       "text": [
        " [183, 183, 180, 183, 183, 206, 183, 180, 183]\n",
        "498 [456, 456, 104, 456, 456, 456, 104, 456]\n",
        "499"
       ]
      },
      {
       "output_type": "stream",
       "stream": "stdout",
       "text": [
        " [436, 287, 436, 436, 34, 34, 436, 398, 436, 436]\n",
        "total candidates 98\n",
        "504"
       ]
      },
      {
       "output_type": "stream",
       "stream": "stdout",
       "text": [
        " [360, 360, 289, 360, 125, 360, 482, 360, 199, 199, 360]\n",
        "505 [246, 246, 216, 246, 153, 246, 246]\n",
        "507"
       ]
      },
      {
       "output_type": "stream",
       "stream": "stdout",
       "text": [
        " [455, 455, 455, 314, 43, 455, 455, 190, 455]\n",
        "510"
       ]
      },
      {
       "output_type": "stream",
       "stream": "stdout",
       "text": [
        " [490, 490, 400, 490, 386, 386, 350, 490, 490]\n",
        "515"
       ]
      },
      {
       "output_type": "stream",
       "stream": "stdout",
       "text": [
        " [513, 513, 513, 513, 479, 513, 203, 249, 479, 513, 479]\n",
        "516"
       ]
      },
      {
       "output_type": "stream",
       "stream": "stdout",
       "text": [
        " [458, 458, 458, 510, 510, 458, 458, 458]\n",
        "521"
       ]
      },
      {
       "output_type": "stream",
       "stream": "stdout",
       "text": [
        " [164, 164, 164, 164, 164, 164, 68, 483]\n",
        "523"
       ]
      },
      {
       "output_type": "stream",
       "stream": "stdout",
       "text": [
        " [340, 340, 340, 340, 499, 421, 340, 447, 499, 340, 340]\n",
        "525"
       ]
      },
      {
       "output_type": "stream",
       "stream": "stdout",
       "text": [
        " [310, 310, 310, 256, 503, 75, 310, 507, 310]\n",
        "527"
       ]
      },
      {
       "output_type": "stream",
       "stream": "stdout",
       "text": [
        " [288, 65, 14, 14, 65, 341, 65, 341, 65, 65]\n",
        "528 [329, 329, 329, 329, 19, 329, 515, 502, 329]\n",
        "537"
       ]
      },
      {
       "output_type": "stream",
       "stream": "stdout",
       "text": [
        " [67, 67, 379, 505, 67, 67, 67, 67]\n",
        "540"
       ]
      },
      {
       "output_type": "stream",
       "stream": "stdout",
       "text": [
        " [166, 166, 166, 166, 523, 166, 5, 104, 166, 242, 166]\n",
        "543"
       ]
      },
      {
       "output_type": "stream",
       "stream": "stdout",
       "text": [
        " [121, 121, 121, 121, 511, 420, 532, 121, 453, 121, 511]\n",
        "546"
       ]
      },
      {
       "output_type": "stream",
       "stream": "stdout",
       "text": [
        " [349, 349, 435, 532, 499, 253, 481, 467, 349, 349, 349]\n",
        "554"
       ]
      },
      {
       "output_type": "stream",
       "stream": "stdout",
       "text": [
        " [291, 506, 291, 291, 61, 291, 291, 291, 374]\n",
        "558"
       ]
      },
      {
       "output_type": "stream",
       "stream": "stdout",
       "text": [
        " [88, 515, 487, 515, 515, 515, 249, 515, 515, 515]\n",
        "562"
       ]
      },
      {
       "output_type": "stream",
       "stream": "stdout",
       "text": [
        " [200, 200, 200, 13, 13, 200, 359, 200, 200]\n",
        "564"
       ]
      },
      {
       "output_type": "stream",
       "stream": "stdout",
       "text": [
        " [13, 469, 469, 469, 106, 13, 469, 469, 292, 469]\n",
        "565"
       ]
      },
      {
       "output_type": "stream",
       "stream": "stdout",
       "text": [
        " [315, 315, 315, 315, 467, 542, 315, 428, 315, 315]\n",
        "572"
       ]
      },
      {
       "output_type": "stream",
       "stream": "stdout",
       "text": [
        " [301, 301, 287, 287, 301, 301, 312, 301, 301]\n",
        "573"
       ]
      },
      {
       "output_type": "stream",
       "stream": "stdout",
       "text": [
        " [500, 536, 569, 500, 500, 500, 500, 562]\n",
        "576"
       ]
      },
      {
       "output_type": "stream",
       "stream": "stdout",
       "text": [
        " [142, 142, 235, 559, 475, 142, 142, 142]\n",
        "577"
       ]
      },
      {
       "output_type": "stream",
       "stream": "stdout",
       "text": [
        " [177, 177, 177, 177, 384, 177, 530, 177, 177]\n",
        "583"
       ]
      },
      {
       "output_type": "stream",
       "stream": "stdout",
       "text": [
        " [540, 540, 540, 540, 565, 565, 540, 540]\n",
        "584"
       ]
      },
      {
       "output_type": "stream",
       "stream": "stdout",
       "text": [
        " [411, 206, 206, 181, 206, 206, 206, 535, 206, 206, 206, 206]\n",
        "585 [161, 583, 583, 161, 161]\n",
        "587"
       ]
      },
      {
       "output_type": "stream",
       "stream": "stdout",
       "text": [
        " [564, 564, 513, 377, 564, 513, 564, 471, 564]\n",
        "595"
       ]
      },
      {
       "output_type": "stream",
       "stream": "stdout",
       "text": [
        " [287, 287, 247, 287, 325, 287, 287, 411, 287, 225, 325, 287, 325]\n",
        "600"
       ]
      },
      {
       "output_type": "stream",
       "stream": "stdout",
       "text": [
        " [41, 462, 462, 462, 462, 515, 515, 462, 462]\n",
        "total candidates 128\n",
        "602 [597, 318, 318, 414, 574, 318, 594, 556, 318, 318]\n",
        "604"
       ]
      },
      {
       "output_type": "stream",
       "stream": "stdout",
       "text": [
        " [600, 600, 73, 600, 568, 568, 600, 600]\n",
        "605 [434, 434, 434, 562, 434, 562, 434, 434]\n",
        "606"
       ]
      },
      {
       "output_type": "stream",
       "stream": "stdout",
       "text": [
        " [263, 263, 379, 183, 263, 319, 263, 515, 263, 263, 183]\n",
        "608"
       ]
      },
      {
       "output_type": "stream",
       "stream": "stdout",
       "text": [
        " [584, 584, 584, 584, 584, 594, 299, 584, 244, 584, 374]\n",
        "609 [179, 179, 179, 179, 571, 179, 179]\n",
        "612"
       ]
      },
      {
       "output_type": "stream",
       "stream": "stdout",
       "text": [
        " [430, 430, 430, 430, 430, 430, 430, 430, 430, 430]\n",
        "613 [415, 415, 415, 415, 568, 415, 415, 592]\n",
        "615"
       ]
      },
      {
       "output_type": "stream",
       "stream": "stdout",
       "text": [
        " [222, 222, 222, 222, 222, 354, 222, 168, 222, 311]\n",
        "619"
       ]
      },
      {
       "output_type": "stream",
       "stream": "stdout",
       "text": [
        " [603, 501, 126, 603, 485, 603, 421]\n",
        "620 [608, 608, 608, 602, 299, 199, 397, 608, 608]\n",
        "626"
       ]
      },
      {
       "output_type": "stream",
       "stream": "stdout",
       "text": [
        " [13, 13, 13, 13, 13, 13, 530, 530, 13, 13]\n",
        "629"
       ]
      },
      {
       "output_type": "stream",
       "stream": "stdout",
       "text": [
        " [76, 570, 570, 86, 86, 570, 570, 570]\n",
        "630 [361, 361, 472, 361, 205, 205, 361, 4]\n",
        "631"
       ]
      },
      {
       "output_type": "stream",
       "stream": "stdout",
       "text": [
        " [610, 610, 583, 517, 593, 408, 610, 610, 610, 392]\n",
        "632"
       ]
      },
      {
       "output_type": "stream",
       "stream": "stdout",
       "text": [
        " [558, 558, 558, 558, 129, 558, 558, 339, 29, 558]\n",
        "635"
       ]
      },
      {
       "output_type": "stream",
       "stream": "stdout",
       "text": [
        " [632, 632, 632, 632, 632, 484, 567, 632, 479, 632]\n",
        "638"
       ]
      },
      {
       "output_type": "stream",
       "stream": "stdout",
       "text": [
        " [610, 338, 434, 434, 422, 422, 434]\n",
        "640"
       ]
      },
      {
       "output_type": "stream",
       "stream": "stdout",
       "text": [
        " [596, 596, 161, 596, 596, 596, 596, 530, 313, 596]\n",
        "641 [487, 560, 560, 518, 487, 560, 560, 560]\n",
        "642"
       ]
      },
      {
       "output_type": "stream",
       "stream": "stdout",
       "text": [
        " [327, 327, 327, 549, 327, 625, 327, 327, 327, 286]\n",
        "646"
       ]
      },
      {
       "output_type": "stream",
       "stream": "stdout",
       "text": [
        " [595, 540, 540, 540, 540, 523, 540, 523, 540, 540, 540, 540]\n",
        "652"
       ]
      },
      {
       "output_type": "stream",
       "stream": "stdout",
       "text": [
        " [348, 293, 348, 628, 348, 348, 461, 348, 348, 563]\n",
        "664"
       ]
      },
      {
       "output_type": "stream",
       "stream": "stdout",
       "text": [
        " [216, 216, 216, 216, 621, 515, 216, 216, 216]\n",
        "666 [434, 665, 665, 665, 665, 665]\n",
        "667"
       ]
      },
      {
       "output_type": "stream",
       "stream": "stdout",
       "text": [
        " [565, 565, 565, 359, 565, 565, 569, 565, 359]\n",
        "668 [47, 47, 47, 47, 47, 503, 47]\n",
        "670"
       ]
      },
      {
       "output_type": "stream",
       "stream": "stdout",
       "text": [
        " [329, 329, 329, 224, 329, 25, 329, 316, 329, 575]\n",
        "672"
       ]
      },
      {
       "output_type": "stream",
       "stream": "stdout",
       "text": [
        " [556, 556, 556, 532, 556, 254, 393, 274, 410, 556, 393]\n",
        "673"
       ]
      },
      {
       "output_type": "stream",
       "stream": "stdout",
       "text": [
        " [352, 664, 664, 417, 402, 664, 664, 620, 664]\n",
        "679"
       ]
      },
      {
       "output_type": "stream",
       "stream": "stdout",
       "text": [
        " [386, 386, 386, 162, 386, 386, 162, 667, 162, 386]\n",
        "681"
       ]
      },
      {
       "output_type": "stream",
       "stream": "stdout",
       "text": [
        " [93, 93, 93, 241, 480, 93, 93, 93]\n",
        "693"
       ]
      },
      {
       "output_type": "stream",
       "stream": "stdout",
       "text": [
        " [661, 661, 661, 174, 285, 174, 446, 661, 661, 285, 661]\n",
        "695"
       ]
      },
      {
       "output_type": "stream",
       "stream": "stdout",
       "text": [
        " [310, 310, 310, 685, 310, 310, 649, 310, 310, 310, 685, 649]\n",
        "700"
       ]
      },
      {
       "output_type": "stream",
       "stream": "stdout",
       "text": [
        " [626, 646, 646, 646, 447, 247, 646, 646, 646]\n",
        "total candidates 163\n",
        "701 [443, 443, 566, 443, 443, 470, 263, 290, 443, 443]\n",
        "703"
       ]
      },
      {
       "output_type": "stream",
       "stream": "stdout",
       "text": [
        " [588, 588, 588, 462, 301, 588, 588, 588]\n",
        "704"
       ]
      },
      {
       "output_type": "stream",
       "stream": "stdout",
       "text": [
        " [689, 689, 651, 689, 283, 689, 626, 626, 457, 689]\n",
        "705"
       ]
      },
      {
       "output_type": "stream",
       "stream": "stdout",
       "text": [
        " [457, 595, 595, 457, 457, 457, 422, 114, 457, 457]\n",
        "707"
       ]
      },
      {
       "output_type": "stream",
       "stream": "stdout",
       "text": [
        " [657, 657, 657, 319, 657, 657, 657, 479]\n",
        "708"
       ]
      },
      {
       "output_type": "stream",
       "stream": "stdout",
       "text": [
        " [615, 615, 615, 615, 498, 188, 615, 498, 615, 615]\n",
        "709 [554, 556, 82, 681, 556, 82, 82]\n",
        "710"
       ]
      },
      {
       "output_type": "stream",
       "stream": "stdout",
       "text": [
        " [675, 688, 574, 688, 675, 210]\n",
        "712"
       ]
      },
      {
       "output_type": "stream",
       "stream": "stdout",
       "text": [
        " [708, 644, 644, 708, 708, 708, 708, 644, 708, 708, 644]\n",
        "715"
       ]
      },
      {
       "output_type": "stream",
       "stream": "stdout",
       "text": [
        " [34, 34, 34, 34, 707, 435, 707, 34, 34, 34]\n",
        "719"
       ]
      },
      {
       "output_type": "stream",
       "stream": "stdout",
       "text": [
        " [65, 65, 654, 65, 471, 654, 65, 65, 471, 65]\n",
        "720"
       ]
      },
      {
       "output_type": "stream",
       "stream": "stdout",
       "text": [
        " [247, 310, 247, 247, 247, 556, 247, 247, 515, 247, 525, 515, 247]\n",
        "721"
       ]
      },
      {
       "output_type": "stream",
       "stream": "stdout",
       "text": [
        " [525, 652, 652, 652, 426, 652, 219, 525, 652, 652]\n",
        "724"
       ]
      },
      {
       "output_type": "stream",
       "stream": "stdout",
       "text": [
        " [90, 90, 455, 90, 90, 455, 90, 90]\n",
        "725"
       ]
      },
      {
       "output_type": "stream",
       "stream": "stdout",
       "text": [
        " [629, 581, 581, 160, 592, 581, 581, 581]\n",
        "726"
       ]
      },
      {
       "output_type": "stream",
       "stream": "stdout",
       "text": [
        " [663, 663, 663, 607, 268, 584, 663, 663, 621]\n",
        "731"
       ]
      },
      {
       "output_type": "stream",
       "stream": "stdout",
       "text": [
        " [660, 660, 660, 651, 651, 660, 660, 660, 660, 651]\n",
        "733"
       ]
      },
      {
       "output_type": "stream",
       "stream": "stdout",
       "text": [
        " [339, 676, 676, 657, 681, 676, 631, 631, 676, 676]\n",
        "736"
       ]
      },
      {
       "output_type": "stream",
       "stream": "stdout",
       "text": [
        " [242, 242, 96, 242, 242, 242, 242, 242, 242]\n",
        "738"
       ]
      },
      {
       "output_type": "stream",
       "stream": "stdout",
       "text": [
        " [718, 718, 718, 718, 654, 112, 718, 718, 718]\n",
        "739"
       ]
      },
      {
       "output_type": "stream",
       "stream": "stdout",
       "text": [
        " [715, 715, 715, 715, 715, 715, 715, 715, 715, 715]\n",
        "742"
       ]
      },
      {
       "output_type": "stream",
       "stream": "stdout",
       "text": [
        " [661, 661, 661, 726, 661, 412, 661, 661, 661]\n",
        "744"
       ]
      },
      {
       "output_type": "stream",
       "stream": "stdout",
       "text": [
        " [641, 641, 641, 641, 450, 450, 450, 641, 641]\n",
        "746"
       ]
      },
      {
       "output_type": "stream",
       "stream": "stdout",
       "text": [
        " [567, 297, 310, 297, 297, 297, 297, 297]\n",
        "749"
       ]
      },
      {
       "output_type": "stream",
       "stream": "stdout",
       "text": [
        " [608, 608, 608, 608, 608, 479, 608, 608, 608]\n",
        "751"
       ]
      },
      {
       "output_type": "stream",
       "stream": "stdout",
       "text": [
        " [477, 477, 537, 537, 537, 570, 537, 537]\n",
        "754"
       ]
      },
      {
       "output_type": "stream",
       "stream": "stdout",
       "text": [
        " [313, 372, 313, 653, 313, 313, 372, 313, 313]\n",
        "758"
       ]
      },
      {
       "output_type": "stream",
       "stream": "stdout",
       "text": [
        " [207, 207, 651, 207, 651, 207, 207, 207, 207, 207, 207, 207, 651, 207]\n",
        "761"
       ]
      },
      {
       "output_type": "stream",
       "stream": "stdout",
       "text": [
        " [86, 86, 392, 392, 392, 695, 392, 86, 392, 392, 392]\n",
        "762"
       ]
      },
      {
       "output_type": "stream",
       "stream": "stdout",
       "text": [
        " [239, 89, 89, 89, 20, 239, 20, 89, 89, 89]\n",
        "763"
       ]
      },
      {
       "output_type": "stream",
       "stream": "stdout",
       "text": [
        " [631, 631, 565, 297, 631, 631, 631, 631]\n",
        "766"
       ]
      },
      {
       "output_type": "stream",
       "stream": "stdout",
       "text": [
        " [761, 761, 748, 667, 478, 761, 748, 667, 761, 761]\n",
        "773"
       ]
      },
      {
       "output_type": "stream",
       "stream": "stdout",
       "text": [
        " [524, 524, 524, 425, 425, 524]\n",
        "776"
       ]
      },
      {
       "output_type": "stream",
       "stream": "stdout",
       "text": [
        " [380, 380, 380, 758, 380, 380, 380, 380, 380, 380]\n",
        "777 [716, 716, 716, 716, 712, 591, 716]\n",
        "783"
       ]
      },
      {
       "output_type": "stream",
       "stream": "stdout",
       "text": [
        " [365, 365, 365, 365, 365, 124, 365, 651, 303, 365, 365, 365, 365]\n",
        "786"
       ]
      },
      {
       "output_type": "stream",
       "stream": "stdout",
       "text": [
        " [473, 473, 518, 473, 473, 473]\n",
        "789"
       ]
      },
      {
       "output_type": "stream",
       "stream": "stdout",
       "text": [
        " [329, 329, 329, 57, 329, 329, 232, 57, 329]\n",
        "790"
       ]
      },
      {
       "output_type": "stream",
       "stream": "stdout",
       "text": [
        " [416, 416, 416, 416, 416, 416, 416, 704, 304, 416, 416]\n",
        "791"
       ]
      },
      {
       "output_type": "stream",
       "stream": "stdout",
       "text": [
        " [700, 767, 767, 767, 689, 394, 767, 767]\n",
        "794"
       ]
      },
      {
       "output_type": "stream",
       "stream": "stdout",
       "text": [
        " [530, 530, 530, 530, 530, 297, 530, 530, 530, 530]\n",
        "795"
       ]
      },
      {
       "output_type": "stream",
       "stream": "stdout",
       "text": [
        " [752, 543, 543, 543, 543, 543, 697, 543, 543]\n",
        "total candidates"
       ]
      },
      {
       "output_type": "stream",
       "stream": "stdout",
       "text": [
        " 205\n",
        "801 [691, 388, 691, 691, 691, 597, 597, 691]\n",
        "804"
       ]
      },
      {
       "output_type": "stream",
       "stream": "stdout",
       "text": [
        " [763, 763, 42, 614, 570, 763, 763, 763]\n",
        "807"
       ]
      },
      {
       "output_type": "stream",
       "stream": "stdout",
       "text": [
        " [781, 781, 781, 781, 781, 781, 781, 781, 781, 781]\n",
        "813"
       ]
      },
      {
       "output_type": "stream",
       "stream": "stdout",
       "text": [
        " [301, 551, 650, 551, 551, 483, 551, 551, 551]\n",
        "814 [290, 290, 290, 290, 533, 168, 794, 290, 290, 290, 290]\n",
        "824"
       ]
      },
      {
       "output_type": "stream",
       "stream": "stdout",
       "text": [
        " [786, 786, 786, 786, 786, 786]\n",
        "827"
       ]
      },
      {
       "output_type": "stream",
       "stream": "stdout",
       "text": [
        " [737, 737, 737, 737, 737, 620]\n",
        "829"
       ]
      },
      {
       "output_type": "stream",
       "stream": "stdout",
       "text": [
        " [734, 247, 247, 247, 64, 247, 247, 320, 591, 247, 247]\n",
        "830"
       ]
      },
      {
       "output_type": "stream",
       "stream": "stdout",
       "text": [
        " [828, 828, 828, 655, 828, 734, 453, 828]\n",
        "832"
       ]
      },
      {
       "output_type": "stream",
       "stream": "stdout",
       "text": [
        " [814, 92, 814, 814, 814, 478, 639, 814, 814, 677]\n",
        "834"
       ]
      },
      {
       "output_type": "stream",
       "stream": "stdout",
       "text": [
        " [375, 375, 474, 474, 474, 474, 474, 474, 474]\n",
        "836"
       ]
      },
      {
       "output_type": "stream",
       "stream": "stdout",
       "text": [
        " [616, 384, 384, 384, 384, 616, 748, 328, 126, 384, 384, 384]\n",
        "838"
       ]
      },
      {
       "output_type": "stream",
       "stream": "stdout",
       "text": [
        " [663, 663, 663, 663, 663, 214, 214, 663, 663]\n",
        "840"
       ]
      },
      {
       "output_type": "stream",
       "stream": "stdout",
       "text": [
        " [739, 739, 606, 191, 739, 632, 479, 739, 739, 739]\n",
        "841 [762, 760, 667, 615, 760, 615, 591, 615]\n",
        "847"
       ]
      },
      {
       "output_type": "stream",
       "stream": "stdout",
       "text": [
        " [200, 5, 5, 5, 5, 5, 5, 692, 5, 200]\n",
        "848"
       ]
      },
      {
       "output_type": "stream",
       "stream": "stdout",
       "text": [
        " [485, 485, 485, 485, 779, 640, 485, 485, 485]\n",
        "852"
       ]
      },
      {
       "output_type": "stream",
       "stream": "stdout",
       "text": [
        " [202, 202, 760, 202, 202, 794, 480, 827, 202, 202]\n",
        "858"
       ]
      },
      {
       "output_type": "stream",
       "stream": "stdout",
       "text": [
        " [376, 207, 207, 318, 207, 207, 207, 207, 496, 207, 318, 783, 207]\n",
        "868"
       ]
      },
      {
       "output_type": "stream",
       "stream": "stdout",
       "text": [
        " [310, 310, 310, 310, 310, 766, 310, 716, 310]\n",
        "872"
       ]
      },
      {
       "output_type": "stream",
       "stream": "stdout",
       "text": [
        " [31, 675, 318, 31, 844, 31, 31, 31, 747]\n",
        "873"
       ]
      },
      {
       "output_type": "stream",
       "stream": "stdout",
       "text": [
        " [177, 177, 177, 177, 177, 767, 721, 177]\n",
        "876"
       ]
      },
      {
       "output_type": "stream",
       "stream": "stdout",
       "text": [
        " [88, 88, 88, 88, 88, 88, 88, 291, 291, 61, 836, 88]\n",
        "890"
       ]
      },
      {
       "output_type": "stream",
       "stream": "stdout",
       "text": [
        " [801, 616, 801, 801, 597, 801, 318, 801]\n",
        "893"
       ]
      },
      {
       "output_type": "stream",
       "stream": "stdout",
       "text": [
        " [661, 607, 607, 816, 607]\n",
        "total candidates 230\n"
       ]
      }
     ],
     "prompt_number": 55
    },
    {
     "cell_type": "code",
     "collapsed": false,
     "input": [
      "man_keyword[836]"
     ],
     "language": "python",
     "metadata": {},
     "outputs": [
      {
       "metadata": {},
       "output_type": "pyout",
       "prompt_number": 68,
       "text": [
        "['cobalt',\n",
        " 'cluster',\n",
        " 'gas',\n",
        " 'sorption',\n",
        " 'magnetic',\n",
        " 'property',\n",
        " 'metal',\n",
        " 'organic',\n",
        " 'framework',\n",
        " 'pyridine',\n",
        " 'carboxylate',\n",
        " 'ligand']"
       ]
      }
     ],
     "prompt_number": 68
    },
    {
     "cell_type": "code",
     "collapsed": false,
     "input": [
      "for i, key in enumerate(man_keyword):\n",
      "    if 'curcumin' in key:\n",
      "        print(i, key)"
     ],
     "language": "python",
     "metadata": {},
     "outputs": [
      {
       "output_type": "stream",
       "stream": "stdout",
       "text": [
        "508 ['zif8', 'cervical', 'cancer', 'curcumin', 'drug', 'delivery', 'nanocarrier']\n",
        "894 ['cdmofs', 'curcumin', 'encapsulation', 'spectroscopy', 'stability', 'cyclodextrin']\n"
       ]
      }
     ],
     "prompt_number": 65
    },
    {
     "cell_type": "code",
     "collapsed": false,
     "input": [
      "past_paper_find(895, ['screening'])\n",
      "past_paper_find(895, ['screen'])"
     ],
     "language": "python",
     "metadata": {},
     "outputs": [
      {
       "output_type": "stream",
       "stream": "stdout",
       "text": [
        "226 ['mofs', 'qspr', 'model', 'computer', 'aid', 'design', 'gas', 'adsorption', 'nanoporous', 'material', 'virtual', 'screening']\n",
        "735 ['gas', 'capture', 'storage', 'host', 'guest', 'property', 'machine', 'learn', 'nanoporous', 'solid', 'virtual', 'screening']\n",
        "14 ['charge', 'equilibration', 'electrostatics', 'metal', 'organic', 'framework', 'molecular', 'simulation', 'partial', 'charge', 'rapid', 'screen']\n",
        "397 ['cu', 'paddlewheel', 'tcnq', 'density', 'functional', 'theory', 'electrical', 'conductivity', 'metal', 'organic', 'framework', 'screen']\n"
       ]
      }
     ],
     "prompt_number": 62
    },
    {
     "cell_type": "code",
     "collapsed": false,
     "input": [
      "def build_paper_matrix(index):\n",
      "    matrix = np.zeros((len(unique_keyword),len(unique_keyword)), dtype=np.int16)\n",
      "    col_list = [dictionary[word] for word in man_keyword[index]]\n",
      "    print(col_list)\n",
      "    for j in col_list:\n",
      "        for k in col_list:\n",
      "            matrix[j,k] += 1\n",
      "    return matrix, col_list\n",
      "    \n",
      "#def update_co_occur_matrix(time_matrix, matrix):\n",
      "#print(build_paper_matrix(0).nonzero())"
     ],
     "language": "python",
     "metadata": {},
     "outputs": [],
     "prompt_number": 23
    },
    {
     "cell_type": "code",
     "collapsed": false,
     "input": [
      "def brute_force_path(index):\n",
      "    assert index >= 1\n",
      "    # 1st matrix\n",
      "    matrix, self_set = build_paper_matrix(0)\n",
      "    num_of_words = len(matrix)\n",
      "    # paper loop\n",
      "    for i in range(1,index):\n",
      "        # update matrix\n",
      "        self_matrix, self_set = build_paper_matrix(i)\n",
      "        matrix = matrix + self_matrix\n",
      "        # find the first word\n",
      "        for j in range(num_of_words):\n",
      "            if matrix[j,j] != 0:\n",
      "                word_index = j\n",
      "                break\n",
      "                \n",
      "        path_list = matrix[word_index].nonzero()[0]\n",
      "        np.delete(path_list,word_index)\n",
      "        for j in sub_col:\n",
      "            \n",
      "            \n",
      "            \n",
      "            \n",
      "    return matrix, self_set"
     ],
     "language": "python",
     "metadata": {},
     "outputs": [],
     "prompt_number": 24
    },
    {
     "cell_type": "code",
     "collapsed": false,
     "input": [
      "mat, set1 = brute_force_path(2)"
     ],
     "language": "python",
     "metadata": {},
     "outputs": [
      {
       "output_type": "stream",
       "stream": "stdout",
       "text": [
        "[45, 42, 112, 21, 48, 304, 142, 0, 2, 1]\n",
        "[1018, 31, 6, 5, 705, 136, 117, 65]\n"
       ]
      }
     ],
     "prompt_number": 27
    },
    {
     "cell_type": "code",
     "collapsed": false,
     "input": [
      "d = mat[0].nonzero()[0]\n",
      "np.delete(d,0)"
     ],
     "language": "python",
     "metadata": {},
     "outputs": [
      {
       "metadata": {},
       "output_type": "pyout",
       "prompt_number": 43,
       "text": [
        "array([  1,   2,  21,  42,  45,  48, 112, 142, 304])"
       ]
      }
     ],
     "prompt_number": 43
    },
    {
     "cell_type": "code",
     "collapsed": false,
     "input": [
      "with open('keyword_distribution.txt','w') as f:\n",
      "    for co in count:\n",
      "        f.write('%s    %d\\n'%(co[0],co[1]))"
     ],
     "language": "python",
     "metadata": {},
     "outputs": [],
     "prompt_number": 71
    },
    {
     "cell_type": "code",
     "collapsed": false,
     "input": [],
     "language": "python",
     "metadata": {},
     "outputs": []
    }
   ],
   "metadata": {}
  }
 ]
}