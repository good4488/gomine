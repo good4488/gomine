{
 "metadata": {
  "name": "",
  "signature": "sha256:596641b2a50f35d9716666d5f28e7420f4e1a3ae68ab3627d90dd3a1fa35adec"
 },
 "nbformat": 3,
 "nbformat_minor": 0,
 "worksheets": [
  {
   "cells": [
    {
     "cell_type": "code",
     "collapsed": false,
     "input": [
      "import collections\n",
      "import os"
     ],
     "language": "python",
     "metadata": {},
     "outputs": [],
     "prompt_number": 1
    },
    {
     "cell_type": "code",
     "collapsed": false,
     "input": [
      "text = 'a representation of a document with frequency of each words'\n",
      "count = []\n",
      "count.extend(collections.Counter(text.split()).most_common(len(text.split())))\n",
      "print(count)"
     ],
     "language": "python",
     "metadata": {},
     "outputs": [
      {
       "output_type": "stream",
       "stream": "stdout",
       "text": [
        "[('a', 2), ('of', 2), ('representation', 1), ('frequency', 1), ('document', 1), ('words', 1), ('with', 1), ('each', 1)]\n"
       ]
      }
     ],
     "prompt_number": 2
    },
    {
     "cell_type": "code",
     "collapsed": false,
     "input": [],
     "language": "python",
     "metadata": {},
     "outputs": []
    }
   ],
   "metadata": {}
  }
 ]
}